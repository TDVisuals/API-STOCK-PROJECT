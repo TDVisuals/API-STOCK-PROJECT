{
  "nbformat": 4,
  "nbformat_minor": 0,
  "metadata": {
    "colab": {
      "provenance": [],
      "include_colab_link": true
    },
    "kernelspec": {
      "name": "python3",
      "display_name": "Python 3"
    },
    "language_info": {
      "name": "python"
    }
  },
  "cells": [
    {
      "cell_type": "markdown",
      "metadata": {
        "id": "view-in-github",
        "colab_type": "text"
      },
      "source": [
        "<a href=\"https://colab.research.google.com/github/TDVisuals/API-STOCK-PROJECT/blob/main/My_Stocks_API_Project.ipynb\" target=\"_parent\"><img src=\"https://colab.research.google.com/assets/colab-badge.svg\" alt=\"Open In Colab\"/></a>"
      ]
    },
    {
      "cell_type": "code",
      "execution_count": 1,
      "metadata": {
        "id": "cfXNIOAwXlCC"
      },
      "outputs": [],
      "source": [
        "import yfinance as yf\n",
        "import pandas as pd\n",
        "\n",
        "tickers = yf.Tickers ('tsla nke googl amd mara')\n",
        "tickers.tickers ['TSLA'].info\n",
        "tickers.tickers ['NKE'].info\n",
        "tickers.tickers ['GOOGL'].info\n",
        "tickers.tickers ['MARA'].info\n",
        "tickers.tickers ['AMD'].info\n",
        "\n",
        "tsla = yf.Ticker(\"TSLA\")\n",
        "nke = yf.Ticker(\"NKE\")\n",
        "googl = yf.Ticker(\"GOOGL\")\n",
        "mara = yf.Ticker(\"MARA\")\n",
        "amd = yf.Ticker(\"AMD\")\n",
        "\n"
      ]
    },
    {
      "cell_type": "markdown",
      "source": [
        "# TESLA'S STOCK INFO!"
      ],
      "metadata": {
        "id": "cJlih1iYdFh9"
      }
    },
    {
      "cell_type": "code",
      "source": [
        "import pandas as pd\n",
        "tsla = yf.Ticker(\"TSLA\")"
      ],
      "metadata": {
        "id": "Pc6KIZfndKFC"
      },
      "execution_count": 2,
      "outputs": []
    },
    {
      "cell_type": "code",
      "source": [
        "print(tsla.info)"
      ],
      "metadata": {
        "colab": {
          "base_uri": "https://localhost:8080/"
        },
        "id": "vNNd3yPYdL9b",
        "outputId": "1e897a6b-05e9-4774-ba5f-51a8b5d38a70"
      },
      "execution_count": null,
      "outputs": [
        {
          "output_type": "stream",
          "name": "stdout",
          "text": [
            "{'address1': '1 Tesla Road', 'city': 'Austin', 'state': 'TX', 'zip': '78725', 'country': 'United States', 'phone': '512 516 8177', 'website': 'https://www.tesla.com', 'industry': 'Auto Manufacturers', 'industryKey': 'auto-manufacturers', 'industryDisp': 'Auto Manufacturers', 'sector': 'Consumer Cyclical', 'sectorKey': 'consumer-cyclical', 'sectorDisp': 'Consumer Cyclical', 'longBusinessSummary': 'Tesla, Inc. designs, develops, manufactures, leases, and sells electric vehicles, and energy generation and storage systems in the United States, China, and internationally. The company operates in two segments, Automotive, and Energy Generation and Storage. The Automotive segment offers electric vehicles, as well as sells automotive regulatory credits; and non-warranty after-sales vehicle, used vehicles, body shop and parts, supercharging, retail merchandise, and vehicle insurance services. This segment also provides sedans and sport utility vehicles through direct and used vehicle sales, a network of Tesla Superchargers, and in-app upgrades; purchase financing and leasing services; services for electric vehicles through its company-owned service locations and Tesla mobile service technicians; and vehicle limited warranties and extended service plans. The Energy Generation and Storage segment engages in the design, manufacture, installation, sale, and leasing of solar energy generation and energy storage products, and related services to residential, commercial, and industrial customers and utilities through its website, stores, and galleries, as well as through a network of channel partners; and provision of service and repairs to its energy product customers, including under warranty, as well as various financing options to its solar customers. The company was formerly known as Tesla Motors, Inc. and changed its name to Tesla, Inc. in February 2017. Tesla, Inc. was incorporated in 2003 and is headquartered in Austin, Texas.', 'fullTimeEmployees': 140473, 'companyOfficers': [{'maxAge': 1, 'name': 'Mr. Elon R. Musk', 'age': 51, 'title': 'Co-Founder, Technoking of Tesla, CEO & Director', 'yearBorn': 1972, 'fiscalYear': 2023, 'exercisedValue': 1861335, 'unexercisedValue': 68433694720}, {'maxAge': 1, 'name': 'Mr. Vaibhav  Taneja', 'age': 45, 'title': 'Chief Financial Officer', 'yearBorn': 1978, 'fiscalYear': 2023, 'totalPay': 278000, 'exercisedValue': 8517957, 'unexercisedValue': 202075632}, {'maxAge': 1, 'name': 'Mr. Xiaotong  Zhu', 'age': 43, 'title': 'Senior Vice President of Automotive', 'yearBorn': 1980, 'fiscalYear': 2023, 'totalPay': 926877, 'exercisedValue': 0, 'unexercisedValue': 344144320}, {'maxAge': 1, 'name': 'Mr. Martin  Viecha', 'title': 'Vice President of Investor Relations', 'fiscalYear': 2023, 'exercisedValue': 0, 'unexercisedValue': 0}, {'maxAge': 1, 'name': 'Brian  Scelfo', 'title': 'Senior Director of Corporate Development', 'fiscalYear': 2023, 'exercisedValue': 0, 'unexercisedValue': 0}, {'maxAge': 1, 'name': 'Mr. Franz  von Holzhausen', 'title': 'Chief Designer', 'fiscalYear': 2023, 'exercisedValue': 0, 'unexercisedValue': 0}, {'maxAge': 1, 'name': 'Mr. John  Walker', 'age': 60, 'title': 'Vice President of Sales - North America', 'yearBorn': 1963, 'fiscalYear': 2023, 'totalPay': 121550, 'exercisedValue': 0, 'unexercisedValue': 0}, {'maxAge': 1, 'name': 'Mr. Peter  Bannon', 'title': 'Chip Architect', 'fiscalYear': 2023, 'exercisedValue': 0, 'unexercisedValue': 0}, {'maxAge': 1, 'name': 'Mr. Turner  Caldwell', 'title': 'Engineering Manager', 'fiscalYear': 2023, 'exercisedValue': 0, 'unexercisedValue': 0}, {'maxAge': 1, 'name': 'Mr. Rodney D. Westmoreland Jr.', 'title': 'Director of Construction Management', 'fiscalYear': 2023, 'exercisedValue': 0, 'unexercisedValue': 0}], 'auditRisk': 7, 'boardRisk': 9, 'compensationRisk': 10, 'shareHolderRightsRisk': 9, 'overallRisk': 10, 'governanceEpochDate': 1722470400, 'compensationAsOfEpochDate': 1703980800, 'maxAge': 86400, 'priceHint': 2, 'previousClose': 201.38, 'open': 205.02, 'dayLow': 204.82, 'dayHigh': 215.79, 'regularMarketPreviousClose': 201.38, 'regularMarketOpen': 205.02, 'regularMarketDayLow': 204.82, 'regularMarketDayHigh': 215.79, 'beta': 2.313, 'trailingPE': 60.280903, 'forwardPE': 67.91139, 'volume': 45945399, 'regularMarketVolume': 45945399, 'averageVolume': 95143369, 'averageVolume10days': 74609810, 'averageDailyVolume10Day': 74609810, 'bid': 214.45, 'ask': 214.69, 'bidSize': 100, 'askSize': 100, 'marketCap': 685569736704, 'fiftyTwoWeekLow': 138.8, 'fiftyTwoWeekHigh': 278.98, 'priceToSalesTrailing12Months': 7.1924477, 'fiftyDayAverage': 212.0182, 'twoHundredDayAverage': 203.0463, 'currency': 'USD', 'enterpriseValue': 625926668288, 'profitMargins': 0.12996, 'floatShares': 2777675948, 'sharesOutstanding': 3194639872, 'sharesShort': 86969962, 'sharesShortPriorMonth': 105201302, 'sharesShortPreviousMonthDate': 1719532800, 'dateShortInterest': 1722384000, 'sharesPercentSharesOut': 0.0272, 'heldPercentInsiders': 0.12998, 'heldPercentInstitutions': 0.47486, 'shortRatio': 0.65, 'shortPercentOfFloat': 0.0313, 'impliedSharesOutstanding': 3194639872, 'bookValue': 20.81, 'priceToBook': 10.31235, 'lastFiscalYearEnd': 1703980800, 'nextFiscalYearEnd': 1735603200, 'mostRecentQuarter': 1719705600, 'earningsQuarterlyGrowth': -0.453, 'netIncomeToCommon': 12389999616, 'trailingEps': 3.56, 'forwardEps': 3.16, 'pegRatio': 28.69, 'lastSplitFactor': '3:1', 'lastSplitDate': 1661385600, 'enterpriseToRevenue': 6.567, 'enterpriseToEbitda': 51.398, '52WeekChange': -0.08137941, 'SandP52WeekChange': 0.24822903, 'exchange': 'NMS', 'quoteType': 'EQUITY', 'symbol': 'TSLA', 'underlyingSymbol': 'TSLA', 'shortName': 'Tesla, Inc.', 'longName': 'Tesla, Inc.', 'firstTradeDateEpochUtc': 1277818200, 'timeZoneFullName': 'America/New_York', 'timeZoneShortName': 'EDT', 'uuid': 'ec367bc4-f92c-397c-ac81-bf7b43cffaf7', 'messageBoardId': 'finmb_27444752', 'gmtOffSetMilliseconds': -14400000, 'currentPrice': 214.6, 'targetHighPrice': 310.0, 'targetLowPrice': 24.86, 'targetMeanPrice': 207.64, 'targetMedianPrice': 220.5, 'recommendationMean': 2.8, 'recommendationKey': 'hold', 'numberOfAnalystOpinions': 42, 'totalCash': 30720000000, 'totalCashPerShare': 9.616, 'ebitda': 12177999872, 'totalDebt': 12515000320, 'quickRatio': 1.249, 'currentRatio': 1.911, 'totalRevenue': 95317999616, 'debtToEquity': 18.606, 'revenuePerShare': 29.932, 'returnOnAssets': 0.044159997, 'returnOnEquity': 0.20861, 'freeCashflow': -907249984, 'operatingCashflow': 11532000256, 'earningsGrowth': -0.462, 'revenueGrowth': 0.023, 'grossMargins': 0.17719999, 'ebitdaMargins': 0.12776, 'operatingMargins': 0.0858, 'financialCurrency': 'USD', 'trailingPegRatio': 4.0324}\n"
          ]
        }
      ]
    },
    {
      "cell_type": "markdown",
      "source": [
        "#TESLA'S STOCK INFO IN A MONTH"
      ],
      "metadata": {
        "id": "AMzhAcyYdh_Q"
      }
    },
    {
      "cell_type": "code",
      "source": [
        "data = pd.DataFrame(yf.download(\"TSLA\", period=\"1mo\"))\n",
        "data.Close.median()"
      ],
      "metadata": {
        "colab": {
          "base_uri": "https://localhost:8080/"
        },
        "id": "xIZ8c0vidk1j",
        "outputId": "f6458167-8b68-4612-c18c-3b8fae8b9266"
      },
      "execution_count": null,
      "outputs": [
        {
          "output_type": "stream",
          "name": "stderr",
          "text": [
            "\r[*********************100%%**********************]  1 of 1 completed\n"
          ]
        },
        {
          "output_type": "execute_result",
          "data": {
            "text/plain": [
              "218.3300018310547"
            ]
          },
          "metadata": {},
          "execution_count": 43
        }
      ]
    },
    {
      "cell_type": "markdown",
      "source": [
        "After rounding Teslas median is 218"
      ],
      "metadata": {
        "id": "gYcbScZIgoTS"
      }
    },
    {
      "cell_type": "code",
      "source": [
        "data = pd.DataFrame(yf.download(\"TSLA\", period=\"1mo\"))\n",
        "data.Close.mean()"
      ],
      "metadata": {
        "colab": {
          "base_uri": "https://localhost:8080/"
        },
        "id": "ErQsGaHLg95O",
        "outputId": "159ace55-2f83-4f8a-91b4-e9d3e6b7618d"
      },
      "execution_count": null,
      "outputs": [
        {
          "output_type": "stream",
          "name": "stderr",
          "text": [
            "\r[*********************100%%**********************]  1 of 1 completed\n"
          ]
        },
        {
          "output_type": "execute_result",
          "data": {
            "text/plain": [
              "221.7833340962728"
            ]
          },
          "metadata": {},
          "execution_count": 44
        }
      ]
    },
    {
      "cell_type": "markdown",
      "source": [
        "Teslas mean in 1 month is 222"
      ],
      "metadata": {
        "id": "OHpDgFS8hTkk"
      }
    },
    {
      "cell_type": "code",
      "source": [
        "data = pd.DataFrame(yf.download(\"TSLA\", period=\"1mo\"))\n",
        "data.Close.mode()"
      ],
      "metadata": {
        "colab": {
          "base_uri": "https://localhost:8080/",
          "height": 845
        },
        "id": "W4afMfWKhgIW",
        "outputId": "bd2f1391-f83b-411f-b421-4dc88e7b696c"
      },
      "execution_count": null,
      "outputs": [
        {
          "output_type": "stream",
          "name": "stderr",
          "text": [
            "\r[*********************100%%**********************]  1 of 1 completed\n"
          ]
        },
        {
          "output_type": "execute_result",
          "data": {
            "text/plain": [
              "0     191.759995\n",
              "1     197.490005\n",
              "2     198.839996\n",
              "3     198.880005\n",
              "4     200.000000\n",
              "5     200.639999\n",
              "6     201.380005\n",
              "7     207.669998\n",
              "8     207.830002\n",
              "9     214.600006\n",
              "10    215.990005\n",
              "11    216.860001\n",
              "12    219.800003\n",
              "13    220.250000\n",
              "14    222.619995\n",
              "15    232.070007\n",
              "16    232.100006\n",
              "17    239.199997\n",
              "18    246.380005\n",
              "19    248.500000\n",
              "20    249.229996\n",
              "21    251.509995\n",
              "22    252.639999\n",
              "23    256.559998\n",
              "Name: Close, dtype: float64"
            ],
            "text/html": [
              "<div>\n",
              "<style scoped>\n",
              "    .dataframe tbody tr th:only-of-type {\n",
              "        vertical-align: middle;\n",
              "    }\n",
              "\n",
              "    .dataframe tbody tr th {\n",
              "        vertical-align: top;\n",
              "    }\n",
              "\n",
              "    .dataframe thead th {\n",
              "        text-align: right;\n",
              "    }\n",
              "</style>\n",
              "<table border=\"1\" class=\"dataframe\">\n",
              "  <thead>\n",
              "    <tr style=\"text-align: right;\">\n",
              "      <th></th>\n",
              "      <th>Close</th>\n",
              "    </tr>\n",
              "  </thead>\n",
              "  <tbody>\n",
              "    <tr>\n",
              "      <th>0</th>\n",
              "      <td>191.759995</td>\n",
              "    </tr>\n",
              "    <tr>\n",
              "      <th>1</th>\n",
              "      <td>197.490005</td>\n",
              "    </tr>\n",
              "    <tr>\n",
              "      <th>2</th>\n",
              "      <td>198.839996</td>\n",
              "    </tr>\n",
              "    <tr>\n",
              "      <th>3</th>\n",
              "      <td>198.880005</td>\n",
              "    </tr>\n",
              "    <tr>\n",
              "      <th>4</th>\n",
              "      <td>200.000000</td>\n",
              "    </tr>\n",
              "    <tr>\n",
              "      <th>5</th>\n",
              "      <td>200.639999</td>\n",
              "    </tr>\n",
              "    <tr>\n",
              "      <th>6</th>\n",
              "      <td>201.380005</td>\n",
              "    </tr>\n",
              "    <tr>\n",
              "      <th>7</th>\n",
              "      <td>207.669998</td>\n",
              "    </tr>\n",
              "    <tr>\n",
              "      <th>8</th>\n",
              "      <td>207.830002</td>\n",
              "    </tr>\n",
              "    <tr>\n",
              "      <th>9</th>\n",
              "      <td>214.600006</td>\n",
              "    </tr>\n",
              "    <tr>\n",
              "      <th>10</th>\n",
              "      <td>215.990005</td>\n",
              "    </tr>\n",
              "    <tr>\n",
              "      <th>11</th>\n",
              "      <td>216.860001</td>\n",
              "    </tr>\n",
              "    <tr>\n",
              "      <th>12</th>\n",
              "      <td>219.800003</td>\n",
              "    </tr>\n",
              "    <tr>\n",
              "      <th>13</th>\n",
              "      <td>220.250000</td>\n",
              "    </tr>\n",
              "    <tr>\n",
              "      <th>14</th>\n",
              "      <td>222.619995</td>\n",
              "    </tr>\n",
              "    <tr>\n",
              "      <th>15</th>\n",
              "      <td>232.070007</td>\n",
              "    </tr>\n",
              "    <tr>\n",
              "      <th>16</th>\n",
              "      <td>232.100006</td>\n",
              "    </tr>\n",
              "    <tr>\n",
              "      <th>17</th>\n",
              "      <td>239.199997</td>\n",
              "    </tr>\n",
              "    <tr>\n",
              "      <th>18</th>\n",
              "      <td>246.380005</td>\n",
              "    </tr>\n",
              "    <tr>\n",
              "      <th>19</th>\n",
              "      <td>248.500000</td>\n",
              "    </tr>\n",
              "    <tr>\n",
              "      <th>20</th>\n",
              "      <td>249.229996</td>\n",
              "    </tr>\n",
              "    <tr>\n",
              "      <th>21</th>\n",
              "      <td>251.509995</td>\n",
              "    </tr>\n",
              "    <tr>\n",
              "      <th>22</th>\n",
              "      <td>252.639999</td>\n",
              "    </tr>\n",
              "    <tr>\n",
              "      <th>23</th>\n",
              "      <td>256.559998</td>\n",
              "    </tr>\n",
              "  </tbody>\n",
              "</table>\n",
              "</div><br><label><b>dtype:</b> float64</label>"
            ]
          },
          "metadata": {},
          "execution_count": 45
        }
      ]
    },
    {
      "cell_type": "markdown",
      "source": [
        "# TESLAS DATA IN 6 MONTHS"
      ],
      "metadata": {
        "id": "XQNZNBHtFMDV"
      }
    },
    {
      "cell_type": "code",
      "source": [
        "data = pd.DataFrame(yf.download(\"TSLA\", period=\"6mo\"))\n",
        "data.Close.mean()"
      ],
      "metadata": {
        "colab": {
          "base_uri": "https://localhost:8080/"
        },
        "id": "rMz5agx7FVXe",
        "outputId": "cfe6150a-c1ab-4b0c-f523-83c15d3095e8"
      },
      "execution_count": null,
      "outputs": [
        {
          "output_type": "stream",
          "name": "stderr",
          "text": [
            "\r[*********************100%%**********************]  1 of 1 completed\n"
          ]
        },
        {
          "output_type": "execute_result",
          "data": {
            "text/plain": [
              "190.8310317993164"
            ]
          },
          "metadata": {},
          "execution_count": 46
        }
      ]
    },
    {
      "cell_type": "markdown",
      "source": [
        "The mean of Tesla in 6 months is 191"
      ],
      "metadata": {
        "id": "p9Je4KOiFjkW"
      }
    },
    {
      "cell_type": "code",
      "source": [
        "data = pd.DataFrame(yf.download(\"TSLA\", period=\"6mo\"))\n",
        "data.Close.median()"
      ],
      "metadata": {
        "colab": {
          "base_uri": "https://localhost:8080/"
        },
        "id": "jtyz9FFtF3q4",
        "outputId": "e2f1b943-9d84-462b-ca06-38f0d91b2dd7"
      },
      "execution_count": null,
      "outputs": [
        {
          "output_type": "stream",
          "name": "stderr",
          "text": [
            "\r[*********************100%%**********************]  1 of 1 completed\n"
          ]
        },
        {
          "output_type": "execute_result",
          "data": {
            "text/plain": [
              "180.0"
            ]
          },
          "metadata": {},
          "execution_count": 47
        }
      ]
    },
    {
      "cell_type": "markdown",
      "source": [
        "The mean of Tesla in 6 months is 180"
      ],
      "metadata": {
        "id": "jt5couJkGDWl"
      }
    },
    {
      "cell_type": "code",
      "source": [
        "data = pd.DataFrame(yf.download(\"TSLA\", period=\"6mo\"))\n",
        "data.Close.mode()"
      ],
      "metadata": {
        "colab": {
          "base_uri": "https://localhost:8080/",
          "height": 471
        },
        "id": "ZyGSFuaDF3nQ",
        "outputId": "9dae77a1-7bc4-4021-cba1-4c04157582ec"
      },
      "execution_count": null,
      "outputs": [
        {
          "output_type": "stream",
          "name": "stderr",
          "text": [
            "\r[*********************100%%**********************]  1 of 1 completed\n"
          ]
        },
        {
          "output_type": "execute_result",
          "data": {
            "text/plain": [
              "0      142.050003\n",
              "1      144.679993\n",
              "2      147.050003\n",
              "3      149.929993\n",
              "4      155.449997\n",
              "          ...    \n",
              "121    252.639999\n",
              "122    252.940002\n",
              "123    256.559998\n",
              "124    262.329987\n",
              "125    263.260010\n",
              "Name: Close, Length: 126, dtype: float64"
            ],
            "text/html": [
              "<div>\n",
              "<style scoped>\n",
              "    .dataframe tbody tr th:only-of-type {\n",
              "        vertical-align: middle;\n",
              "    }\n",
              "\n",
              "    .dataframe tbody tr th {\n",
              "        vertical-align: top;\n",
              "    }\n",
              "\n",
              "    .dataframe thead th {\n",
              "        text-align: right;\n",
              "    }\n",
              "</style>\n",
              "<table border=\"1\" class=\"dataframe\">\n",
              "  <thead>\n",
              "    <tr style=\"text-align: right;\">\n",
              "      <th></th>\n",
              "      <th>Close</th>\n",
              "    </tr>\n",
              "  </thead>\n",
              "  <tbody>\n",
              "    <tr>\n",
              "      <th>0</th>\n",
              "      <td>142.050003</td>\n",
              "    </tr>\n",
              "    <tr>\n",
              "      <th>1</th>\n",
              "      <td>144.679993</td>\n",
              "    </tr>\n",
              "    <tr>\n",
              "      <th>2</th>\n",
              "      <td>147.050003</td>\n",
              "    </tr>\n",
              "    <tr>\n",
              "      <th>3</th>\n",
              "      <td>149.929993</td>\n",
              "    </tr>\n",
              "    <tr>\n",
              "      <th>4</th>\n",
              "      <td>155.449997</td>\n",
              "    </tr>\n",
              "    <tr>\n",
              "      <th>...</th>\n",
              "      <td>...</td>\n",
              "    </tr>\n",
              "    <tr>\n",
              "      <th>121</th>\n",
              "      <td>252.639999</td>\n",
              "    </tr>\n",
              "    <tr>\n",
              "      <th>122</th>\n",
              "      <td>252.940002</td>\n",
              "    </tr>\n",
              "    <tr>\n",
              "      <th>123</th>\n",
              "      <td>256.559998</td>\n",
              "    </tr>\n",
              "    <tr>\n",
              "      <th>124</th>\n",
              "      <td>262.329987</td>\n",
              "    </tr>\n",
              "    <tr>\n",
              "      <th>125</th>\n",
              "      <td>263.260010</td>\n",
              "    </tr>\n",
              "  </tbody>\n",
              "</table>\n",
              "<p>126 rows × 1 columns</p>\n",
              "</div><br><label><b>dtype:</b> float64</label>"
            ]
          },
          "metadata": {},
          "execution_count": 48
        }
      ]
    },
    {
      "cell_type": "markdown",
      "source": [
        "# TESLA DATA IN 2 YEARS!"
      ],
      "metadata": {
        "id": "ysqBUUmYGgh3"
      }
    },
    {
      "cell_type": "code",
      "source": [
        "data = pd.DataFrame(yf.download(\"TSLA\", period=\"2y\"))\n",
        "data.Close.mean()"
      ],
      "metadata": {
        "colab": {
          "base_uri": "https://localhost:8080/"
        },
        "id": "F8SRBH6FFLLD",
        "outputId": "c8cf6fbe-90fe-458f-e53d-76b2483d94d8"
      },
      "execution_count": null,
      "outputs": [
        {
          "output_type": "stream",
          "name": "stderr",
          "text": [
            "\r[*********************100%%**********************]  1 of 1 completed\n"
          ]
        },
        {
          "output_type": "execute_result",
          "data": {
            "text/plain": [
              "211.58914509160854"
            ]
          },
          "metadata": {},
          "execution_count": 7
        }
      ]
    },
    {
      "cell_type": "markdown",
      "source": [
        "Teslas mean is 212"
      ],
      "metadata": {
        "id": "DBEfmQJVGq9L"
      }
    },
    {
      "cell_type": "code",
      "source": [
        "data = pd.DataFrame(yf.download(\"TSLA\", period=\"2y\"))\n",
        "data.Close.median()"
      ],
      "metadata": {
        "colab": {
          "base_uri": "https://localhost:8080/"
        },
        "id": "XKEArGRcIWi-",
        "outputId": "29f606f8-fa72-4de0-c780-30343e7a60fe"
      },
      "execution_count": null,
      "outputs": [
        {
          "output_type": "stream",
          "name": "stderr",
          "text": [
            "\r[*********************100%%**********************]  1 of 1 completed\n"
          ]
        },
        {
          "output_type": "execute_result",
          "data": {
            "text/plain": [
              "204.99000549316406"
            ]
          },
          "metadata": {},
          "execution_count": 4
        }
      ]
    },
    {
      "cell_type": "markdown",
      "source": [
        "Teslas median is 205"
      ],
      "metadata": {
        "id": "EPvGZ06WIZlA"
      }
    },
    {
      "cell_type": "code",
      "source": [
        "data = pd.DataFrame(yf.download(\"TSLA\", period=\"2y\"))\n",
        "data.Close.mode()"
      ],
      "metadata": {
        "colab": {
          "base_uri": "https://localhost:8080/",
          "height": 380
        },
        "id": "c8WUoapeIqg7",
        "outputId": "58fec300-5c0a-4011-ab92-68d9f59992af"
      },
      "execution_count": null,
      "outputs": [
        {
          "output_type": "stream",
          "name": "stderr",
          "text": [
            "\r[*********************100%%**********************]  1 of 1 completed\n"
          ]
        },
        {
          "output_type": "execute_result",
          "data": {
            "text/plain": [
              "0    173.440002\n",
              "1    183.250000\n",
              "2    194.699997\n",
              "3    194.770004\n",
              "4    202.039993\n",
              "5    207.830002\n",
              "6    246.380005\n",
              "7    248.500000\n",
              "8    265.279999\n",
              "Name: Close, dtype: float64"
            ],
            "text/html": [
              "<div>\n",
              "<style scoped>\n",
              "    .dataframe tbody tr th:only-of-type {\n",
              "        vertical-align: middle;\n",
              "    }\n",
              "\n",
              "    .dataframe tbody tr th {\n",
              "        vertical-align: top;\n",
              "    }\n",
              "\n",
              "    .dataframe thead th {\n",
              "        text-align: right;\n",
              "    }\n",
              "</style>\n",
              "<table border=\"1\" class=\"dataframe\">\n",
              "  <thead>\n",
              "    <tr style=\"text-align: right;\">\n",
              "      <th></th>\n",
              "      <th>Close</th>\n",
              "    </tr>\n",
              "  </thead>\n",
              "  <tbody>\n",
              "    <tr>\n",
              "      <th>0</th>\n",
              "      <td>173.440002</td>\n",
              "    </tr>\n",
              "    <tr>\n",
              "      <th>1</th>\n",
              "      <td>183.250000</td>\n",
              "    </tr>\n",
              "    <tr>\n",
              "      <th>2</th>\n",
              "      <td>194.699997</td>\n",
              "    </tr>\n",
              "    <tr>\n",
              "      <th>3</th>\n",
              "      <td>194.770004</td>\n",
              "    </tr>\n",
              "    <tr>\n",
              "      <th>4</th>\n",
              "      <td>202.039993</td>\n",
              "    </tr>\n",
              "    <tr>\n",
              "      <th>5</th>\n",
              "      <td>207.830002</td>\n",
              "    </tr>\n",
              "    <tr>\n",
              "      <th>6</th>\n",
              "      <td>246.380005</td>\n",
              "    </tr>\n",
              "    <tr>\n",
              "      <th>7</th>\n",
              "      <td>248.500000</td>\n",
              "    </tr>\n",
              "    <tr>\n",
              "      <th>8</th>\n",
              "      <td>265.279999</td>\n",
              "    </tr>\n",
              "  </tbody>\n",
              "</table>\n",
              "</div><br><label><b>dtype:</b> float64</label>"
            ]
          },
          "metadata": {},
          "execution_count": 5
        }
      ]
    },
    {
      "cell_type": "markdown",
      "source": [
        "# TESLAS DATA IN 5 YEARS!!"
      ],
      "metadata": {
        "id": "S9ZpfxxpIukZ"
      }
    },
    {
      "cell_type": "code",
      "source": [
        "data = pd.DataFrame(yf.download(\"TSLA\", period=\"5y\"))\n",
        "data.Close.mean()"
      ],
      "metadata": {
        "colab": {
          "base_uri": "https://localhost:8080/"
        },
        "id": "WmDLJaNRJFt5",
        "outputId": "e96d4591-b5ef-478d-974f-c96b54403f3d"
      },
      "execution_count": null,
      "outputs": [
        {
          "output_type": "stream",
          "name": "stderr",
          "text": [
            "\r[*********************100%%**********************]  1 of 1 completed\n"
          ]
        },
        {
          "output_type": "execute_result",
          "data": {
            "text/plain": [
              "192.77004818848093"
            ]
          },
          "metadata": {},
          "execution_count": 7
        }
      ]
    },
    {
      "cell_type": "markdown",
      "source": [
        "The mean of tesla is 193"
      ],
      "metadata": {
        "id": "_3CCujB7JLmM"
      }
    },
    {
      "cell_type": "code",
      "source": [
        "data = pd.DataFrame(yf.download(\"TSLA\", period=\"5y\"))\n",
        "data.Close.median()"
      ],
      "metadata": {
        "colab": {
          "base_uri": "https://localhost:8080/"
        },
        "id": "Ye8RJclbJPn-",
        "outputId": "c67780fb-00ad-4836-b615-074d9904d20b"
      },
      "execution_count": null,
      "outputs": [
        {
          "output_type": "stream",
          "name": "stderr",
          "text": [
            "\r[*********************100%%**********************]  1 of 1 completed\n"
          ]
        },
        {
          "output_type": "execute_result",
          "data": {
            "text/plain": [
              "207.8300018310547"
            ]
          },
          "metadata": {},
          "execution_count": 8
        }
      ]
    },
    {
      "cell_type": "markdown",
      "source": [
        "The median of tesla is 208"
      ],
      "metadata": {
        "id": "7_sL1rwkJSX0"
      }
    },
    {
      "cell_type": "code",
      "source": [
        "data = pd.DataFrame(yf.download(\"TSLA\", period=\"5y\"))\n",
        "data.Close.mode()"
      ],
      "metadata": {
        "colab": {
          "base_uri": "https://localhost:8080/",
          "height": 473
        },
        "id": "KzY3rTvEJHX2",
        "outputId": "1d73134c-9530-425d-e937-d902c5c8d5d1"
      },
      "execution_count": null,
      "outputs": [
        {
          "output_type": "stream",
          "name": "stderr",
          "text": [
            "\r[*********************100%%**********************]  1 of 1 completed\n"
          ]
        },
        {
          "output_type": "execute_result",
          "data": {
            "text/plain": [
              "0     173.440002\n",
              "1     183.250000\n",
              "2     194.699997\n",
              "3     194.770004\n",
              "4     202.039993\n",
              "5     207.830002\n",
              "6     238.210007\n",
              "7     246.380005\n",
              "8     248.500000\n",
              "9     265.279999\n",
              "10    288.089996\n",
              "11    293.339996\n",
              "Name: Close, dtype: float64"
            ],
            "text/html": [
              "<div>\n",
              "<style scoped>\n",
              "    .dataframe tbody tr th:only-of-type {\n",
              "        vertical-align: middle;\n",
              "    }\n",
              "\n",
              "    .dataframe tbody tr th {\n",
              "        vertical-align: top;\n",
              "    }\n",
              "\n",
              "    .dataframe thead th {\n",
              "        text-align: right;\n",
              "    }\n",
              "</style>\n",
              "<table border=\"1\" class=\"dataframe\">\n",
              "  <thead>\n",
              "    <tr style=\"text-align: right;\">\n",
              "      <th></th>\n",
              "      <th>Close</th>\n",
              "    </tr>\n",
              "  </thead>\n",
              "  <tbody>\n",
              "    <tr>\n",
              "      <th>0</th>\n",
              "      <td>173.440002</td>\n",
              "    </tr>\n",
              "    <tr>\n",
              "      <th>1</th>\n",
              "      <td>183.250000</td>\n",
              "    </tr>\n",
              "    <tr>\n",
              "      <th>2</th>\n",
              "      <td>194.699997</td>\n",
              "    </tr>\n",
              "    <tr>\n",
              "      <th>3</th>\n",
              "      <td>194.770004</td>\n",
              "    </tr>\n",
              "    <tr>\n",
              "      <th>4</th>\n",
              "      <td>202.039993</td>\n",
              "    </tr>\n",
              "    <tr>\n",
              "      <th>5</th>\n",
              "      <td>207.830002</td>\n",
              "    </tr>\n",
              "    <tr>\n",
              "      <th>6</th>\n",
              "      <td>238.210007</td>\n",
              "    </tr>\n",
              "    <tr>\n",
              "      <th>7</th>\n",
              "      <td>246.380005</td>\n",
              "    </tr>\n",
              "    <tr>\n",
              "      <th>8</th>\n",
              "      <td>248.500000</td>\n",
              "    </tr>\n",
              "    <tr>\n",
              "      <th>9</th>\n",
              "      <td>265.279999</td>\n",
              "    </tr>\n",
              "    <tr>\n",
              "      <th>10</th>\n",
              "      <td>288.089996</td>\n",
              "    </tr>\n",
              "    <tr>\n",
              "      <th>11</th>\n",
              "      <td>293.339996</td>\n",
              "    </tr>\n",
              "  </tbody>\n",
              "</table>\n",
              "</div><br><label><b>dtype:</b> float64</label>"
            ]
          },
          "metadata": {},
          "execution_count": 9
        }
      ]
    },
    {
      "cell_type": "markdown",
      "source": [
        "# NIKE STOCK INFO"
      ],
      "metadata": {
        "id": "0ts8yuemJ7Jf"
      }
    },
    {
      "cell_type": "code",
      "source": [
        "print(nke.info)\n"
      ],
      "metadata": {
        "colab": {
          "base_uri": "https://localhost:8080/"
        },
        "id": "IBEz-Ge-Jt8m",
        "outputId": "6bb78eca-5693-4ecd-9fe0-e6af670993bf"
      },
      "execution_count": null,
      "outputs": [
        {
          "output_type": "stream",
          "name": "stdout",
          "text": [
            "{'address1': 'One Bowerman Drive', 'city': 'Beaverton', 'state': 'OR', 'zip': '97005-6453', 'country': 'United States', 'phone': '503 671 6453', 'website': 'https://www.nike.com', 'industry': 'Footwear & Accessories', 'industryKey': 'footwear-accessories', 'industryDisp': 'Footwear & Accessories', 'sector': 'Consumer Cyclical', 'sectorKey': 'consumer-cyclical', 'sectorDisp': 'Consumer Cyclical', 'longBusinessSummary': 'NIKE, Inc., together with its subsidiaries, engages in the design, development, marketing, and sale of athletic footwear, apparel, equipment, accessories, and services worldwide. The company provides athletic and casual footwear, apparel, and accessories under the NIKE, Jumpman, Converse, Chuck Taylor, All Star, One Star, Star Chevron, and Jack Purcell trademarks. It also sells a line of performance equipment and accessories comprising bags, sport balls, socks, eyewear, timepieces, digital devices, bats, gloves, protective equipment, and other equipment for sports activities under the NIKE brand; and various plastic products to other manufacturers. In addition, the company markets apparel with licensed college and professional team, and league logos, as well as sells sports apparel; licenses unaffiliated parties to manufacture and sell apparel, digital devices, and applications and other equipment for sports activities under NIKE-owned trademarks; and operates digital platforms, including fitness and activity apps; sport, fitness, and wellness content; and digital services and features in retail stores. It sells its products to footwear stores; sporting goods stores; athletic specialty stores; department stores; skate, tennis, and golf shops; and other retail accounts through NIKE-owned retail stores, digital platforms, independent distributors, licensees, and sales representatives. The company was founded in 1964 and is headquartered in Beaverton, Oregon.', 'fullTimeEmployees': 79400, 'companyOfficers': [{'maxAge': 1, 'name': 'Mr. Mark G. Parker', 'age': 67, 'title': 'Executive Chairman', 'yearBorn': 1956, 'fiscalYear': 2024, 'totalPay': 6008438, 'exercisedValue': 21727750, 'unexercisedValue': 37683156}, {'maxAge': 1, 'name': 'Mr. John J. Donahoe II', 'age': 62, 'title': 'President, CEO & Director', 'yearBorn': 1961, 'fiscalYear': 2024, 'totalPay': 9946993, 'exercisedValue': 0, 'unexercisedValue': 0}, {'maxAge': 1, 'name': 'Mr. Matthew  Friend', 'age': 45, 'title': 'Executive VP & CFO', 'yearBorn': 1978, 'fiscalYear': 2024, 'totalPay': 2290408, 'exercisedValue': 0, 'unexercisedValue': 2977103}, {'maxAge': 1, 'name': \"Ms. Heidi  O'Neill\", 'age': 57, 'title': 'President of Consumer, Product & Brand', 'yearBorn': 1966, 'fiscalYear': 2024, 'totalPay': 2299285, 'exercisedValue': 0, 'unexercisedValue': 1169775}, {'maxAge': 1, 'name': 'Mr. Craig Anthony Williams', 'age': 53, 'title': 'President of Geographies & Marketplace', 'yearBorn': 1970, 'fiscalYear': 2024, 'totalPay': 2263615, 'exercisedValue': 0, 'unexercisedValue': 815818}, {'maxAge': 1, 'name': 'Mr. Philip H. Knight', 'age': 85, 'title': 'Co-Founder & Chairman Emeritus', 'yearBorn': 1938, 'fiscalYear': 2024, 'totalPay': 3069594, 'exercisedValue': 0, 'unexercisedValue': 0}, {'maxAge': 1, 'name': 'Ms. Johanna  Nielsen', 'age': 45, 'title': 'VP of Controlling & Principal Accounting Officer', 'yearBorn': 1978, 'fiscalYear': 2024, 'exercisedValue': 0, 'unexercisedValue': 0}, {'maxAge': 1, 'name': 'Dr. Muge Erdirik Dogan', 'title': 'Chief Technology Officer', 'fiscalYear': 2024, 'exercisedValue': 0, 'unexercisedValue': 0}, {'maxAge': 1, 'name': 'Mr. Paul  Trussell C.F.A.', 'title': 'VP of Investor Relations & Strategic Finance and Treasurer', 'fiscalYear': 2024, 'exercisedValue': 0, 'unexercisedValue': 0}, {'maxAge': 1, 'name': 'Ms. Ann M. Miller', 'age': 48, 'title': 'Executive VP & Chief Legal Officer', 'yearBorn': 1975, 'fiscalYear': 2024, 'exercisedValue': 0, 'unexercisedValue': 0}], 'auditRisk': 9, 'boardRisk': 10, 'compensationRisk': 2, 'shareHolderRightsRisk': 7, 'overallRisk': 9, 'governanceEpochDate': 1722470400, 'compensationAsOfEpochDate': 1735603200, 'maxAge': 86400, 'priceHint': 2, 'previousClose': 78.5, 'open': 78.0, 'dayLow': 77.42, 'dayHigh': 79.09, 'regularMarketPreviousClose': 78.5, 'regularMarketOpen': 78.0, 'regularMarketDayLow': 77.42, 'regularMarketDayHigh': 79.09, 'dividendRate': 1.48, 'dividendYield': 0.0188, 'exDividendDate': 1725321600, 'payoutRatio': 0.38869998, 'fiveYearAvgDividendYield': 1.04, 'beta': 1.009, 'trailingPE': 21.050938, 'forwardPE': 21.871866, 'volume': 12876008, 'regularMarketVolume': 12876008, 'averageVolume': 14884919, 'averageVolume10days': 11598100, 'averageDailyVolume10Day': 11598100, 'bidSize': 1000, 'askSize': 900, 'marketCap': 117729738752, 'fiftyTwoWeekLow': 70.75, 'fiftyTwoWeekHigh': 123.39, 'priceToSalesTrailing12Months': 2.2921565, 'fiftyDayAverage': 81.0766, 'twoHundredDayAverage': 96.472, 'trailingAnnualDividendRate': 1.45, 'trailingAnnualDividendYield': 0.018471338, 'currency': 'USD', 'enterpriseValue': 118130663424, 'profitMargins': 0.11098, 'floatShares': 1183414027, 'sharesOutstanding': 1201459968, 'sharesShort': 23022782, 'sharesShortPriorMonth': 22660783, 'sharesShortPreviousMonthDate': 1719532800, 'dateShortInterest': 1722384000, 'sharesPercentSharesOut': 0.0154, 'heldPercentInsiders': 0.01424, 'heldPercentInstitutions': 0.82396007, 'shortRatio': 1.28, 'shortPercentOfFloat': 0.0239, 'impliedSharesOutstanding': 1499360000, 'bookValue': 9.601, 'priceToBook': 8.178314, 'lastFiscalYearEnd': 1717113600, 'nextFiscalYearEnd': 1748649600, 'mostRecentQuarter': 1717113600, 'earningsQuarterlyGrowth': 0.455, 'netIncomeToCommon': 5699999744, 'trailingEps': 3.73, 'forwardEps': 3.59, 'pegRatio': 5.2, 'lastSplitFactor': '2:1', 'lastSplitDate': 1450915200, 'enterpriseToRevenue': 2.3, 'enterpriseToEbitda': 15.548, '52WeekChange': -0.25254643, 'SandP52WeekChange': 0.24822903, 'lastDividendValue': 0.37, 'lastDividendDate': 1717372800, 'exchange': 'NYQ', 'quoteType': 'EQUITY', 'symbol': 'NKE', 'underlyingSymbol': 'NKE', 'shortName': 'Nike, Inc.', 'longName': 'NIKE, Inc.', 'firstTradeDateEpochUtc': 344615400, 'timeZoneFullName': 'America/New_York', 'timeZoneShortName': 'EDT', 'uuid': '31395cb8-4595-3f3c-a5ad-b37464c2ce43', 'messageBoardId': 'finmb_291981', 'gmtOffSetMilliseconds': -14400000, 'currentPrice': 78.52, 'targetHighPrice': 120.0, 'targetLowPrice': 60.0, 'targetMeanPrice': 91.05, 'targetMedianPrice': 92.0, 'recommendationMean': 2.4, 'recommendationKey': 'buy', 'numberOfAnalystOpinions': 34, 'totalCash': 11582000128, 'totalCashPerShare': 7.725, 'ebitda': 7598000128, 'totalDebt': 11982999552, 'quickRatio': 1.511, 'currentRatio': 2.396, 'totalRevenue': 51362000896, 'debtToEquity': 83.042, 'revenuePerShare': 33.844, 'returnOnAssets': 0.11161, 'returnOnEquity': 0.40093, 'freeCashflow': 5901125120, 'operatingCashflow': 7429000192, 'earningsGrowth': 0.505, 'revenueGrowth': -0.017, 'grossMargins': 0.44685, 'ebitdaMargins': 0.14793, 'operatingMargins': 0.15777999, 'financialCurrency': 'USD', 'trailingPegRatio': 1.7527}\n"
          ]
        }
      ]
    },
    {
      "cell_type": "markdown",
      "source": [
        "#NIKE STOCK INFO IN A MONTH"
      ],
      "metadata": {
        "id": "W2JXSTn6KBmO"
      }
    },
    {
      "cell_type": "code",
      "source": [
        "data = yf.download(\"NKE\", period=\"1mo\")\n",
        "data.Close.mean()"
      ],
      "metadata": {
        "colab": {
          "base_uri": "https://localhost:8080/"
        },
        "id": "lWaklAO2J27s",
        "outputId": "a6342097-213e-4d21-e846-b7c0cec126b7"
      },
      "execution_count": null,
      "outputs": [
        {
          "output_type": "stream",
          "name": "stderr",
          "text": [
            "\r[*********************100%%**********************]  1 of 1 completed\n"
          ]
        },
        {
          "output_type": "execute_result",
          "data": {
            "text/plain": [
              "73.60478210449219"
            ]
          },
          "metadata": {},
          "execution_count": 11
        }
      ]
    },
    {
      "cell_type": "markdown",
      "source": [
        "The mean is 74 rounded to the nearest whole number"
      ],
      "metadata": {
        "id": "fyfGadj9p8ke"
      }
    },
    {
      "cell_type": "code",
      "source": [
        "data = yf.download(\"NKE\", period=\"1mo\")\n",
        "data.Close.median()"
      ],
      "metadata": {
        "colab": {
          "base_uri": "https://localhost:8080/"
        },
        "id": "I1lryb00KUe4",
        "outputId": "cb142a0c-2f4f-4488-ed6b-de8799814a5c"
      },
      "execution_count": null,
      "outputs": [
        {
          "output_type": "stream",
          "name": "stderr",
          "text": [
            "\r[*********************100%%**********************]  1 of 1 completed\n"
          ]
        },
        {
          "output_type": "execute_result",
          "data": {
            "text/plain": [
              "73.4000015258789"
            ]
          },
          "metadata": {},
          "execution_count": 13
        }
      ]
    },
    {
      "cell_type": "markdown",
      "source": [
        "the median is 73"
      ],
      "metadata": {
        "id": "dZ_h6AzwqOYV"
      }
    },
    {
      "cell_type": "code",
      "source": [
        "data - yf.download(\"NKE\", period=\"1mo\")\n",
        "data.Close.mode()"
      ],
      "metadata": {
        "colab": {
          "base_uri": "https://localhost:8080/",
          "height": 132
        },
        "id": "_mUn3udGKVen",
        "outputId": "1f280a82-c2b3-4962-aece-bfc293760ad3"
      },
      "execution_count": null,
      "outputs": [
        {
          "output_type": "stream",
          "name": "stderr",
          "text": [
            "\r[*********************100%%**********************]  1 of 1 completed\n"
          ]
        },
        {
          "output_type": "execute_result",
          "data": {
            "text/plain": [
              "0    74.860001\n",
              "Name: Close, dtype: float64"
            ],
            "text/html": [
              "<div>\n",
              "<style scoped>\n",
              "    .dataframe tbody tr th:only-of-type {\n",
              "        vertical-align: middle;\n",
              "    }\n",
              "\n",
              "    .dataframe tbody tr th {\n",
              "        vertical-align: top;\n",
              "    }\n",
              "\n",
              "    .dataframe thead th {\n",
              "        text-align: right;\n",
              "    }\n",
              "</style>\n",
              "<table border=\"1\" class=\"dataframe\">\n",
              "  <thead>\n",
              "    <tr style=\"text-align: right;\">\n",
              "      <th></th>\n",
              "      <th>Close</th>\n",
              "    </tr>\n",
              "  </thead>\n",
              "  <tbody>\n",
              "    <tr>\n",
              "      <th>0</th>\n",
              "      <td>74.860001</td>\n",
              "    </tr>\n",
              "  </tbody>\n",
              "</table>\n",
              "</div><br><label><b>dtype:</b> float64</label>"
            ]
          },
          "metadata": {},
          "execution_count": 15
        }
      ]
    },
    {
      "cell_type": "markdown",
      "source": [
        "# NIKE STOCK DATA IN 6 MONTHS"
      ],
      "metadata": {
        "id": "JVnuZmoIKeiS"
      }
    },
    {
      "cell_type": "code",
      "source": [
        "data = yf.download(\"NKE\", period=\"6mo\")\n",
        "data.Close.mean()"
      ],
      "metadata": {
        "colab": {
          "base_uri": "https://localhost:8080/"
        },
        "id": "wXrpb5kaKlkA",
        "outputId": "95cc5558-6d3b-4090-8919-39311a13827c"
      },
      "execution_count": null,
      "outputs": [
        {
          "output_type": "stream",
          "name": "stderr",
          "text": [
            "\r[*********************100%%**********************]  1 of 1 completed\n"
          ]
        },
        {
          "output_type": "execute_result",
          "data": {
            "text/plain": [
              "89.82751983642578"
            ]
          },
          "metadata": {},
          "execution_count": 16
        }
      ]
    },
    {
      "cell_type": "markdown",
      "source": [
        "the mean is 90 rounded up to the nearest whole number"
      ],
      "metadata": {
        "id": "GS4mnlMAqT_U"
      }
    },
    {
      "cell_type": "code",
      "source": [
        "data = yf.download(\"NKE\", period=\"6mo\")\n",
        "data.Close.median()"
      ],
      "metadata": {
        "colab": {
          "base_uri": "https://localhost:8080/"
        },
        "id": "01Ci68PiKpXm",
        "outputId": "cc111894-da09-4838-f054-5d10f9f9ac37"
      },
      "execution_count": null,
      "outputs": [
        {
          "output_type": "stream",
          "name": "stderr",
          "text": [
            "\r[*********************100%%**********************]  1 of 1 completed\n"
          ]
        },
        {
          "output_type": "execute_result",
          "data": {
            "text/plain": [
              "93.36000061035156"
            ]
          },
          "metadata": {},
          "execution_count": 17
        }
      ]
    },
    {
      "cell_type": "markdown",
      "source": [
        "the median is 93"
      ],
      "metadata": {
        "id": "zqAg_1YBqaQZ"
      }
    },
    {
      "cell_type": "code",
      "source": [
        "data = yf.download(\"NKE\", period=\"6mo\")\n",
        "data.Close.mode()"
      ],
      "metadata": {
        "colab": {
          "base_uri": "https://localhost:8080/",
          "height": 163
        },
        "id": "sV3RGEvSKrOf",
        "outputId": "f8ad0ba0-7466-4066-ddce-49aaffea48b7"
      },
      "execution_count": null,
      "outputs": [
        {
          "output_type": "stream",
          "name": "stderr",
          "text": [
            "\r[*********************100%%**********************]  1 of 1 completed\n"
          ]
        },
        {
          "output_type": "execute_result",
          "data": {
            "text/plain": [
              "0    92.000000\n",
              "1    93.389999\n",
              "Name: Close, dtype: float64"
            ],
            "text/html": [
              "<div>\n",
              "<style scoped>\n",
              "    .dataframe tbody tr th:only-of-type {\n",
              "        vertical-align: middle;\n",
              "    }\n",
              "\n",
              "    .dataframe tbody tr th {\n",
              "        vertical-align: top;\n",
              "    }\n",
              "\n",
              "    .dataframe thead th {\n",
              "        text-align: right;\n",
              "    }\n",
              "</style>\n",
              "<table border=\"1\" class=\"dataframe\">\n",
              "  <thead>\n",
              "    <tr style=\"text-align: right;\">\n",
              "      <th></th>\n",
              "      <th>Close</th>\n",
              "    </tr>\n",
              "  </thead>\n",
              "  <tbody>\n",
              "    <tr>\n",
              "      <th>0</th>\n",
              "      <td>92.000000</td>\n",
              "    </tr>\n",
              "    <tr>\n",
              "      <th>1</th>\n",
              "      <td>93.389999</td>\n",
              "    </tr>\n",
              "  </tbody>\n",
              "</table>\n",
              "</div><br><label><b>dtype:</b> float64</label>"
            ]
          },
          "metadata": {},
          "execution_count": 18
        }
      ]
    },
    {
      "cell_type": "markdown",
      "source": [
        "# NIKE STOCK DATA IN 2 YEARS"
      ],
      "metadata": {
        "id": "sD9Nd54lKvOn"
      }
    },
    {
      "cell_type": "code",
      "source": [
        "data = yf.download(\"NKE\", period=\"2y\")\n",
        "data.Close.mean()"
      ],
      "metadata": {
        "colab": {
          "base_uri": "https://localhost:8080/"
        },
        "id": "2Xb_4rl8Kz9p",
        "outputId": "b357fd97-828f-49c1-dbac-6357d4e7948b"
      },
      "execution_count": null,
      "outputs": [
        {
          "output_type": "stream",
          "name": "stderr",
          "text": [
            "\r[*********************100%%**********************]  1 of 1 completed\n"
          ]
        },
        {
          "output_type": "execute_result",
          "data": {
            "text/plain": [
              "104.37274348901707"
            ]
          },
          "metadata": {},
          "execution_count": 19
        }
      ]
    },
    {
      "cell_type": "markdown",
      "source": [
        "the mean is 104"
      ],
      "metadata": {
        "id": "W5FrUdaDqfrX"
      }
    },
    {
      "cell_type": "code",
      "source": [
        "data = yf.download(\"NKE\", period=\"2y\")\n",
        "data.Close.median()"
      ],
      "metadata": {
        "colab": {
          "base_uri": "https://localhost:8080/"
        },
        "id": "TxwTeu8FK2Aj",
        "outputId": "7904409e-c96b-4b1e-d789-2cfedacbfc1c"
      },
      "execution_count": null,
      "outputs": [
        {
          "output_type": "stream",
          "name": "stderr",
          "text": [
            "\r[*********************100%%**********************]  1 of 1 completed\n"
          ]
        },
        {
          "output_type": "execute_result",
          "data": {
            "text/plain": [
              "105.1500015258789"
            ]
          },
          "metadata": {},
          "execution_count": 20
        }
      ]
    },
    {
      "cell_type": "markdown",
      "source": [
        "the median is 105"
      ],
      "metadata": {
        "id": "iE6kzn3Vqhq6"
      }
    },
    {
      "cell_type": "code",
      "source": [
        "data = yf.download(\"NKE\", period=\"2y\")\n",
        "data.Close.mode()"
      ],
      "metadata": {
        "colab": {
          "base_uri": "https://localhost:8080/",
          "height": 256
        },
        "id": "2AANXczsK3sY",
        "outputId": "949fd876-fea8-490f-d553-2f0cf5066301"
      },
      "execution_count": null,
      "outputs": [
        {
          "output_type": "stream",
          "name": "stderr",
          "text": [
            "\r[*********************100%%**********************]  1 of 1 completed\n"
          ]
        },
        {
          "output_type": "execute_result",
          "data": {
            "text/plain": [
              "0     92.000000\n",
              "1     93.389999\n",
              "2    103.769997\n",
              "3    106.550003\n",
              "4    109.690002\n",
              "Name: Close, dtype: float64"
            ],
            "text/html": [
              "<div>\n",
              "<style scoped>\n",
              "    .dataframe tbody tr th:only-of-type {\n",
              "        vertical-align: middle;\n",
              "    }\n",
              "\n",
              "    .dataframe tbody tr th {\n",
              "        vertical-align: top;\n",
              "    }\n",
              "\n",
              "    .dataframe thead th {\n",
              "        text-align: right;\n",
              "    }\n",
              "</style>\n",
              "<table border=\"1\" class=\"dataframe\">\n",
              "  <thead>\n",
              "    <tr style=\"text-align: right;\">\n",
              "      <th></th>\n",
              "      <th>Close</th>\n",
              "    </tr>\n",
              "  </thead>\n",
              "  <tbody>\n",
              "    <tr>\n",
              "      <th>0</th>\n",
              "      <td>92.000000</td>\n",
              "    </tr>\n",
              "    <tr>\n",
              "      <th>1</th>\n",
              "      <td>93.389999</td>\n",
              "    </tr>\n",
              "    <tr>\n",
              "      <th>2</th>\n",
              "      <td>103.769997</td>\n",
              "    </tr>\n",
              "    <tr>\n",
              "      <th>3</th>\n",
              "      <td>106.550003</td>\n",
              "    </tr>\n",
              "    <tr>\n",
              "      <th>4</th>\n",
              "      <td>109.690002</td>\n",
              "    </tr>\n",
              "  </tbody>\n",
              "</table>\n",
              "</div><br><label><b>dtype:</b> float64</label>"
            ]
          },
          "metadata": {},
          "execution_count": 21
        }
      ]
    },
    {
      "cell_type": "markdown",
      "source": [
        "# NIKE STOCK DATA IN 5 YEARS"
      ],
      "metadata": {
        "id": "Ur8xCPX7Lt0U"
      }
    },
    {
      "cell_type": "code",
      "source": [
        "data = yf.download(\"NKE\", period=\"5y\")\n",
        "data.Close.mean()"
      ],
      "metadata": {
        "colab": {
          "base_uri": "https://localhost:8080/"
        },
        "id": "c9ntyBzHLthr",
        "outputId": "35711ffa-c44f-47db-9817-38eea677b825"
      },
      "execution_count": null,
      "outputs": [
        {
          "output_type": "stream",
          "name": "stderr",
          "text": [
            "\r[*********************100%%**********************]  1 of 1 completed\n"
          ]
        },
        {
          "output_type": "execute_result",
          "data": {
            "text/plain": [
              "115.65283791704285"
            ]
          },
          "metadata": {},
          "execution_count": 23
        }
      ]
    },
    {
      "cell_type": "markdown",
      "source": [
        "the mean is 116 rounded up to the nearest whole number"
      ],
      "metadata": {
        "id": "Xt9KRSf8qj0O"
      }
    },
    {
      "cell_type": "code",
      "source": [
        "data = yf.download(\"NKE\", period=\"5y\")\n",
        "data.Close.median()"
      ],
      "metadata": {
        "colab": {
          "base_uri": "https://localhost:8080/"
        },
        "id": "ho1XUpKxL3Mj",
        "outputId": "2a452ddf-e4b6-49d0-aaa1-2458ad2abb86"
      },
      "execution_count": null,
      "outputs": [
        {
          "output_type": "stream",
          "name": "stderr",
          "text": [
            "\r[*********************100%%**********************]  1 of 1 completed\n"
          ]
        },
        {
          "output_type": "execute_result",
          "data": {
            "text/plain": [
              "109.33000183105469"
            ]
          },
          "metadata": {},
          "execution_count": 24
        }
      ]
    },
    {
      "cell_type": "markdown",
      "source": [
        "the median is 109"
      ],
      "metadata": {
        "id": "MLRSXtUIqsnL"
      }
    },
    {
      "cell_type": "code",
      "source": [
        "data = yf.download(\"NKE\", period=\"5y\")\n",
        "data.Close.mode()"
      ],
      "metadata": {
        "colab": {
          "base_uri": "https://localhost:8080/",
          "height": 132
        },
        "id": "VaqRGLehL23j",
        "outputId": "b35100dd-3a9c-47f5-89eb-0efcadc1e08b"
      },
      "execution_count": 3,
      "outputs": [
        {
          "output_type": "stream",
          "name": "stderr",
          "text": [
            "\r[*********************100%%**********************]  1 of 1 completed\n"
          ]
        },
        {
          "output_type": "execute_result",
          "data": {
            "text/plain": [
              "0    92.0\n",
              "Name: Close, dtype: float64"
            ],
            "text/html": [
              "<div>\n",
              "<style scoped>\n",
              "    .dataframe tbody tr th:only-of-type {\n",
              "        vertical-align: middle;\n",
              "    }\n",
              "\n",
              "    .dataframe tbody tr th {\n",
              "        vertical-align: top;\n",
              "    }\n",
              "\n",
              "    .dataframe thead th {\n",
              "        text-align: right;\n",
              "    }\n",
              "</style>\n",
              "<table border=\"1\" class=\"dataframe\">\n",
              "  <thead>\n",
              "    <tr style=\"text-align: right;\">\n",
              "      <th></th>\n",
              "      <th>Close</th>\n",
              "    </tr>\n",
              "  </thead>\n",
              "  <tbody>\n",
              "    <tr>\n",
              "      <th>0</th>\n",
              "      <td>92.0</td>\n",
              "    </tr>\n",
              "  </tbody>\n",
              "</table>\n",
              "</div><br><label><b>dtype:</b> float64</label>"
            ]
          },
          "metadata": {},
          "execution_count": 3
        }
      ]
    },
    {
      "cell_type": "markdown",
      "source": [
        "# AMD STOCK INFORMATION"
      ],
      "metadata": {
        "id": "XhC_b4eMab4U"
      }
    },
    {
      "cell_type": "code",
      "source": [
        "print(amd.info)"
      ],
      "metadata": {
        "colab": {
          "base_uri": "https://localhost:8080/"
        },
        "id": "N3gfBjS8agWH",
        "outputId": "7f057731-c6c1-4808-da81-f02dd08102d9"
      },
      "execution_count": null,
      "outputs": [
        {
          "output_type": "stream",
          "name": "stdout",
          "text": [
            "{'address1': '2485 Augustine Drive', 'city': 'Santa Clara', 'state': 'CA', 'zip': '95054', 'country': 'United States', 'phone': '408 749 4000', 'website': 'https://www.amd.com', 'industry': 'Semiconductors', 'industryKey': 'semiconductors', 'industryDisp': 'Semiconductors', 'sector': 'Technology', 'sectorKey': 'technology', 'sectorDisp': 'Technology', 'longBusinessSummary': 'Advanced Micro Devices, Inc. operates as a semiconductor company worldwide. It operates through Data Center, Client, Gaming, and Embedded segments. The company offers x86 microprocessors and graphics processing units (GPUs) as an accelerated processing unit, chipsets, data center, and professional GPUs; and embedded processors, and semi-custom system-on-chip (SoC) products, microprocessor and SoC development services and technology, data processing unites, field programmable gate arrays (FPGA), and adaptive SoC products. It provides processors under the AMD Ryzen, AMD Ryzen PRO, Ryzen Threadripper, Ryzen Threadripper PRO, AMD Athlon, AMD Athlon PRO, and AMD PRO A-Series brand names; graphics under the AMD Radeon graphics and AMD Embedded Radeon graphics; and professional graphics under the AMD Radeon Pro graphics brand name. In addition, the company offers data center graphics under the Radeon Instinct and Radeon PRO V-series brands, as well as servers under the AMD Instinct accelerators brand; server microprocessors under the AMD EPYC brands; low power solutions under the AMD Athlon, AMD Geode, AMD Ryzen, AMD EPYC, AMD R-Series, and G-Series brands; FPGA products under the Virtex-6, Virtex-7, Virtex UltraScale+, Kintex-7, Kintex UltraScale, Kintex UltraScale+, Artix-7, Artix UltraScale+, Spartan-6, and Spartan-7 brands; adaptive SOCs under the Zynq-7000, Zynq UltraScale+ MPSoC, Zynq UltraScale+ RFSoCs, Versal HBM, Versal Premium, Versal Prime, Versal AI Core, Versal AI Edge, Vitis, and Vivado brands; and compute and network acceleration board products under the Alveo brand. It serves original equipment and design manufacturers, public cloud service providers, system integrators, independent distributors, and add-in-board manufacturers through its direct sales force, and sales representatives. Advanced Micro Devices, Inc. was incorporated in 1969 and is headquartered in Santa Clara, California.', 'fullTimeEmployees': 26000, 'companyOfficers': [{'maxAge': 1, 'name': 'Dr. Lisa T. Su Ph.D.', 'age': 53, 'title': 'Chair, President & CEO', 'yearBorn': 1970, 'fiscalYear': 2023, 'totalPay': 2661511, 'exercisedValue': 120403856, 'unexercisedValue': 84790664}, {'maxAge': 1, 'name': 'Ms. Jean X. Hu', 'age': 60, 'title': 'Executive VP, CFO & Treasurer', 'yearBorn': 1963, 'fiscalYear': 2023, 'totalPay': 3207599, 'exercisedValue': 0, 'unexercisedValue': 0}, {'maxAge': 1, 'name': 'Mr. Victor  Peng', 'age': 63, 'title': 'President of AMD', 'yearBorn': 1960, 'fiscalYear': 2023, 'totalPay': 1614277, 'exercisedValue': 0, 'unexercisedValue': 728203}, {'maxAge': 1, 'name': 'Mr. Forrest E. Norrod', 'age': 58, 'title': 'Executive VP & GM of Data Center Solutions Business Unit', 'yearBorn': 1965, 'fiscalYear': 2023, 'totalPay': 1227544, 'exercisedValue': 0, 'unexercisedValue': 15163074}, {'maxAge': 1, 'name': 'Mr. Philip  Guido', 'title': 'Executive VP & Chief Commercial Officer', 'fiscalYear': 2023, 'totalPay': 3781955, 'exercisedValue': 0, 'unexercisedValue': 0}, {'maxAge': 1, 'name': 'Mr. Keivan  Keshvari', 'title': 'Senior Vice President of Global Operations', 'fiscalYear': 2023, 'exercisedValue': 0, 'unexercisedValue': 0}, {'maxAge': 1, 'name': 'Ms. Darla M. Smith', 'age': 57, 'title': 'Corporate VP & Chief Accounting Officer', 'yearBorn': 1966, 'fiscalYear': 2023, 'exercisedValue': 0, 'unexercisedValue': 0}, {'maxAge': 1, 'name': 'Mr. Mark D. Papermaster', 'age': 61, 'title': 'CTO & Executive VP', 'yearBorn': 1962, 'fiscalYear': 2023, 'totalPay': 1140933, 'exercisedValue': 4836541, 'unexercisedValue': 22460436}, {'maxAge': 1, 'name': 'Mr. Hasmukh  Ranjan', 'title': 'Senior VP & Chief Information Officer', 'fiscalYear': 2023, 'exercisedValue': 0, 'unexercisedValue': 0}, {'maxAge': 1, 'name': 'Mr. Mitchell J. Haws', 'age': 59, 'title': 'Vice President of Investor Relations', 'yearBorn': 1964, 'fiscalYear': 2023, 'exercisedValue': 0, 'unexercisedValue': 0}], 'auditRisk': 8, 'boardRisk': 4, 'compensationRisk': 8, 'shareHolderRightsRisk': 3, 'overallRisk': 6, 'governanceEpochDate': 1722470400, 'compensationAsOfEpochDate': 1703980800, 'irWebsite': 'http://phx.corporate-ir.net/phoenix.zhtml?c=74093&p=irol-IRHome', 'maxAge': 86400, 'priceHint': 2, 'previousClose': 141.13, 'open': 143.0, 'dayLow': 137.64, 'dayHigh': 143.2299, 'regularMarketPreviousClose': 141.13, 'regularMarketOpen': 143.0, 'regularMarketDayLow': 137.64, 'regularMarketDayHigh': 143.2299, 'exDividendDate': 798940800, 'beta': 1.681, 'trailingPE': 167.55952, 'forwardPE': 26.064814, 'volume': 35159989, 'regularMarketVolume': 35159989, 'averageVolume': 55240643, 'averageVolume10days': 57553930, 'averageDailyVolume10Day': 57553930, 'bid': 140.63, 'ask': 147.61, 'bidSize': 800, 'askSize': 100, 'marketCap': 227801055232, 'fiftyTwoWeekLow': 93.12, 'fiftyTwoWeekHigh': 227.3, 'priceToSalesTrailing12Months': 9.786951, 'fiftyDayAverage': 155.6866, 'twoHundredDayAverage': 155.7357, 'currency': 'USD', 'enterpriseValue': 224706314240, 'profitMargins': 0.05817, 'floatShares': 1608172116, 'sharesOutstanding': 1618480000, 'sharesShort': 43316162, 'sharesShortPriorMonth': 41616896, 'sharesShortPreviousMonthDate': 1719532800, 'dateShortInterest': 1722384000, 'sharesPercentSharesOut': 0.026800001, 'heldPercentInsiders': 0.0044400003, 'heldPercentInstitutions': 0.72596, 'shortRatio': 0.77, 'shortPercentOfFloat': 0.0269, 'impliedSharesOutstanding': 1618480000, 'bookValue': 34.943, 'priceToBook': 4.0279884, 'lastFiscalYearEnd': 1703894400, 'nextFiscalYearEnd': 1735516800, 'mostRecentQuarter': 1719619200, 'earningsQuarterlyGrowth': 8.815, 'netIncomeToCommon': 1354000000, 'trailingEps': 0.84, 'forwardEps': 5.4, 'pegRatio': 1.26, 'lastSplitFactor': '2:1', 'lastSplitDate': 966902400, 'enterpriseToRevenue': 9.654, 'enterpriseToEbitda': 55.538, '52WeekChange': 0.34766376, 'SandP52WeekChange': 0.24822903, 'exchange': 'NMS', 'quoteType': 'EQUITY', 'symbol': 'AMD', 'underlyingSymbol': 'AMD', 'shortName': 'Advanced Micro Devices, Inc.', 'longName': 'Advanced Micro Devices, Inc.', 'firstTradeDateEpochUtc': 322151400, 'timeZoneFullName': 'America/New_York', 'timeZoneShortName': 'EDT', 'uuid': '48af4341-f745-363f-945f-a838eeabb062', 'messageBoardId': 'finmb_168864', 'gmtOffSetMilliseconds': -14400000, 'currentPrice': 140.75, 'targetHighPrice': 250.0, 'targetLowPrice': 140.0, 'targetMeanPrice': 187.22, 'targetMedianPrice': 190.0, 'recommendationMean': 1.9, 'recommendationKey': 'buy', 'numberOfAnalystOpinions': 39, 'totalCash': 5340000256, 'totalCashPerShare': 3.299, 'ebitda': 4046000128, 'totalDebt': 2244999936, 'quickRatio': 1.794, 'currentRatio': 2.819, 'totalRevenue': 23275999232, 'debtToEquity': 3.971, 'revenuePerShare': 14.399, 'returnOnAssets': 0.00801, 'returnOnEquity': 0.024249999, 'freeCashflow': 2112999936, 'operatingCashflow': 1916000000, 'earningsGrowth': 8.553, 'revenueGrowth': 0.089, 'grossMargins': 0.51418, 'ebitdaMargins': 0.17382999, 'operatingMargins': 0.0461, 'financialCurrency': 'USD', 'trailingPegRatio': 1.3426}\n"
          ]
        }
      ]
    },
    {
      "cell_type": "markdown",
      "source": [
        "#AMD STOCK INFO MONTH 1"
      ],
      "metadata": {
        "id": "22OUST2Moc7m"
      }
    },
    {
      "cell_type": "code",
      "source": [
        "data = yf.download(\"AMD\", period=\"1mo\")\n",
        "data.Close.mean()"
      ],
      "metadata": {
        "colab": {
          "base_uri": "https://localhost:8080/"
        },
        "id": "Mhya1X2gaCDa",
        "outputId": "20fb7f24-e45f-45fb-8d71-8aa7e81e4cef"
      },
      "execution_count": null,
      "outputs": [
        {
          "output_type": "stream",
          "name": "stderr",
          "text": [
            "\r[*********************100%%**********************]  1 of 1 completed\n"
          ]
        },
        {
          "output_type": "execute_result",
          "data": {
            "text/plain": [
              "144.64743423461914"
            ]
          },
          "metadata": {},
          "execution_count": 2
        }
      ]
    },
    {
      "cell_type": "markdown",
      "source": [
        "The mean is 145 rounded up to the nearest whole number."
      ],
      "metadata": {
        "id": "eQanRxbebbzU"
      }
    },
    {
      "cell_type": "code",
      "source": [
        "data = yf.download(\"AMD\", period=\"1mo\")\n",
        "data.Close.median()"
      ],
      "metadata": {
        "colab": {
          "base_uri": "https://localhost:8080/"
        },
        "id": "oy5FbwdVn8O5",
        "outputId": "ab4ba644-7c13-4d72-ff68-7ac6b46a5509"
      },
      "execution_count": null,
      "outputs": [
        {
          "output_type": "stream",
          "name": "stderr",
          "text": [
            "\r[*********************100%%**********************]  1 of 1 completed\n"
          ]
        },
        {
          "output_type": "execute_result",
          "data": {
            "text/plain": [
              "140.37000274658203"
            ]
          },
          "metadata": {},
          "execution_count": 3
        }
      ]
    },
    {
      "cell_type": "markdown",
      "source": [
        "the median is 140"
      ],
      "metadata": {
        "id": "23tGIOpCbifV"
      }
    },
    {
      "cell_type": "code",
      "source": [
        "data = yf.download(\"AMD\", period=\"1mo\")\n",
        "data.Close.mode()"
      ],
      "metadata": {
        "colab": {
          "base_uri": "https://localhost:8080/",
          "height": 845
        },
        "id": "lv51oPJ0abPi",
        "outputId": "26d088ab-ccbf-4716-f5f3-0b7c7170f029"
      },
      "execution_count": null,
      "outputs": [
        {
          "output_type": "stream",
          "name": "stderr",
          "text": [
            "\r[*********************100%%**********************]  1 of 1 completed\n"
          ]
        },
        {
          "output_type": "execute_result",
          "data": {
            "text/plain": [
              "0     128.669998\n",
              "1     130.179993\n",
              "2     132.500000\n",
              "3     132.539993\n",
              "4     134.270004\n",
              "5     134.820007\n",
              "6     136.320007\n",
              "7     136.770004\n",
              "8     138.320007\n",
              "9     138.440002\n",
              "10    139.750000\n",
              "11    139.990005\n",
              "12    140.750000\n",
              "13    141.130005\n",
              "14    143.899994\n",
              "15    144.479996\n",
              "16    144.630005\n",
              "17    151.580002\n",
              "18    154.000000\n",
              "19    155.770004\n",
              "20    155.869995\n",
              "21    159.429993\n",
              "22    177.550003\n",
              "23    179.830002\n",
              "Name: Close, dtype: float64"
            ],
            "text/html": [
              "<div>\n",
              "<style scoped>\n",
              "    .dataframe tbody tr th:only-of-type {\n",
              "        vertical-align: middle;\n",
              "    }\n",
              "\n",
              "    .dataframe tbody tr th {\n",
              "        vertical-align: top;\n",
              "    }\n",
              "\n",
              "    .dataframe thead th {\n",
              "        text-align: right;\n",
              "    }\n",
              "</style>\n",
              "<table border=\"1\" class=\"dataframe\">\n",
              "  <thead>\n",
              "    <tr style=\"text-align: right;\">\n",
              "      <th></th>\n",
              "      <th>Close</th>\n",
              "    </tr>\n",
              "  </thead>\n",
              "  <tbody>\n",
              "    <tr>\n",
              "      <th>0</th>\n",
              "      <td>128.669998</td>\n",
              "    </tr>\n",
              "    <tr>\n",
              "      <th>1</th>\n",
              "      <td>130.179993</td>\n",
              "    </tr>\n",
              "    <tr>\n",
              "      <th>2</th>\n",
              "      <td>132.500000</td>\n",
              "    </tr>\n",
              "    <tr>\n",
              "      <th>3</th>\n",
              "      <td>132.539993</td>\n",
              "    </tr>\n",
              "    <tr>\n",
              "      <th>4</th>\n",
              "      <td>134.270004</td>\n",
              "    </tr>\n",
              "    <tr>\n",
              "      <th>5</th>\n",
              "      <td>134.820007</td>\n",
              "    </tr>\n",
              "    <tr>\n",
              "      <th>6</th>\n",
              "      <td>136.320007</td>\n",
              "    </tr>\n",
              "    <tr>\n",
              "      <th>7</th>\n",
              "      <td>136.770004</td>\n",
              "    </tr>\n",
              "    <tr>\n",
              "      <th>8</th>\n",
              "      <td>138.320007</td>\n",
              "    </tr>\n",
              "    <tr>\n",
              "      <th>9</th>\n",
              "      <td>138.440002</td>\n",
              "    </tr>\n",
              "    <tr>\n",
              "      <th>10</th>\n",
              "      <td>139.750000</td>\n",
              "    </tr>\n",
              "    <tr>\n",
              "      <th>11</th>\n",
              "      <td>139.990005</td>\n",
              "    </tr>\n",
              "    <tr>\n",
              "      <th>12</th>\n",
              "      <td>140.750000</td>\n",
              "    </tr>\n",
              "    <tr>\n",
              "      <th>13</th>\n",
              "      <td>141.130005</td>\n",
              "    </tr>\n",
              "    <tr>\n",
              "      <th>14</th>\n",
              "      <td>143.899994</td>\n",
              "    </tr>\n",
              "    <tr>\n",
              "      <th>15</th>\n",
              "      <td>144.479996</td>\n",
              "    </tr>\n",
              "    <tr>\n",
              "      <th>16</th>\n",
              "      <td>144.630005</td>\n",
              "    </tr>\n",
              "    <tr>\n",
              "      <th>17</th>\n",
              "      <td>151.580002</td>\n",
              "    </tr>\n",
              "    <tr>\n",
              "      <th>18</th>\n",
              "      <td>154.000000</td>\n",
              "    </tr>\n",
              "    <tr>\n",
              "      <th>19</th>\n",
              "      <td>155.770004</td>\n",
              "    </tr>\n",
              "    <tr>\n",
              "      <th>20</th>\n",
              "      <td>155.869995</td>\n",
              "    </tr>\n",
              "    <tr>\n",
              "      <th>21</th>\n",
              "      <td>159.429993</td>\n",
              "    </tr>\n",
              "    <tr>\n",
              "      <th>22</th>\n",
              "      <td>177.550003</td>\n",
              "    </tr>\n",
              "    <tr>\n",
              "      <th>23</th>\n",
              "      <td>179.830002</td>\n",
              "    </tr>\n",
              "  </tbody>\n",
              "</table>\n",
              "</div><br><label><b>dtype:</b> float64</label>"
            ]
          },
          "metadata": {},
          "execution_count": 4
        }
      ]
    },
    {
      "cell_type": "markdown",
      "source": [
        "# MONTH 6 DATA"
      ],
      "metadata": {
        "id": "2tpoUco-aeYw"
      }
    },
    {
      "cell_type": "code",
      "source": [
        "data = yf.download(\"AMD\", period=\"6mo\")\n",
        "data.Close.mean()"
      ],
      "metadata": {
        "colab": {
          "base_uri": "https://localhost:8080/"
        },
        "id": "c8R6xw39aprs",
        "outputId": "62b09eba-6c8c-4f63-8c0a-42b04bbcf956"
      },
      "execution_count": null,
      "outputs": [
        {
          "output_type": "stream",
          "name": "stderr",
          "text": [
            "\r[*********************100%%**********************]  1 of 1 completed\n"
          ]
        },
        {
          "output_type": "execute_result",
          "data": {
            "text/plain": [
              "164.86896817646328"
            ]
          },
          "metadata": {},
          "execution_count": 5
        }
      ]
    },
    {
      "cell_type": "markdown",
      "source": [
        "The mean is 165 rounded up to the nearest whole number"
      ],
      "metadata": {
        "id": "Nx9RSKmObosz"
      }
    },
    {
      "cell_type": "code",
      "source": [
        "data = yf.download(\"AMD\", period=\"6mo\")\n",
        "data.Close.median()"
      ],
      "metadata": {
        "colab": {
          "base_uri": "https://localhost:8080/"
        },
        "id": "4HtHu3vNavBA",
        "outputId": "b81ef32e-9a0d-44ee-c7f7-fd55e201c3cd"
      },
      "execution_count": null,
      "outputs": [
        {
          "output_type": "stream",
          "name": "stderr",
          "text": [
            "\r[*********************100%%**********************]  1 of 1 completed\n"
          ]
        },
        {
          "output_type": "execute_result",
          "data": {
            "text/plain": [
              "163.37000274658203"
            ]
          },
          "metadata": {},
          "execution_count": 6
        }
      ]
    },
    {
      "cell_type": "markdown",
      "source": [
        "the median is 163"
      ],
      "metadata": {
        "id": "fvLSm9CPbteE"
      }
    },
    {
      "cell_type": "code",
      "source": [
        "data = yf.download(\"AMD\", period=\"6mo\")\n",
        "data.Close.mode()"
      ],
      "metadata": {
        "colab": {
          "base_uri": "https://localhost:8080/",
          "height": 132
        },
        "id": "NxIpMfkgaxUB",
        "outputId": "f3e77018-7768-4b75-8094-e0c35c620faa"
      },
      "execution_count": null,
      "outputs": [
        {
          "output_type": "stream",
          "name": "stderr",
          "text": [
            "\r[*********************100%%**********************]  1 of 1 completed\n"
          ]
        },
        {
          "output_type": "execute_result",
          "data": {
            "text/plain": [
              "0    160.25\n",
              "Name: Close, dtype: float64"
            ],
            "text/html": [
              "<div>\n",
              "<style scoped>\n",
              "    .dataframe tbody tr th:only-of-type {\n",
              "        vertical-align: middle;\n",
              "    }\n",
              "\n",
              "    .dataframe tbody tr th {\n",
              "        vertical-align: top;\n",
              "    }\n",
              "\n",
              "    .dataframe thead th {\n",
              "        text-align: right;\n",
              "    }\n",
              "</style>\n",
              "<table border=\"1\" class=\"dataframe\">\n",
              "  <thead>\n",
              "    <tr style=\"text-align: right;\">\n",
              "      <th></th>\n",
              "      <th>Close</th>\n",
              "    </tr>\n",
              "  </thead>\n",
              "  <tbody>\n",
              "    <tr>\n",
              "      <th>0</th>\n",
              "      <td>160.25</td>\n",
              "    </tr>\n",
              "  </tbody>\n",
              "</table>\n",
              "</div><br><label><b>dtype:</b> float64</label>"
            ]
          },
          "metadata": {},
          "execution_count": 7
        }
      ]
    },
    {
      "cell_type": "markdown",
      "source": [
        "# 2 YEAR AMD STOCK INFO"
      ],
      "metadata": {
        "id": "vA8yXncXazj4"
      }
    },
    {
      "cell_type": "code",
      "source": [
        "data = yf.download(\"AMD\", period=\"2y\")\n",
        "data.Close.mean()"
      ],
      "metadata": {
        "colab": {
          "base_uri": "https://localhost:8080/"
        },
        "id": "J5pf9uE4a31A",
        "outputId": "7d4a53b6-a382-4760-d2b9-4a7254b3473e"
      },
      "execution_count": null,
      "outputs": [
        {
          "output_type": "stream",
          "name": "stderr",
          "text": [
            "\r[*********************100%%**********************]  1 of 1 completed\n"
          ]
        },
        {
          "output_type": "execute_result",
          "data": {
            "text/plain": [
              "116.15928555291796"
            ]
          },
          "metadata": {},
          "execution_count": 8
        }
      ]
    },
    {
      "cell_type": "markdown",
      "source": [
        "the mean is 116"
      ],
      "metadata": {
        "id": "Der5xvv0bxuG"
      }
    },
    {
      "cell_type": "code",
      "source": [
        "data = yf.download(\"AMD\", period=\"2y\")\n",
        "data.Close.median()"
      ],
      "metadata": {
        "colab": {
          "base_uri": "https://localhost:8080/"
        },
        "id": "ZjzA1c4aa6Ig",
        "outputId": "da3dec02-6a68-48f4-d7b6-33ecad9a2465"
      },
      "execution_count": null,
      "outputs": [
        {
          "output_type": "stream",
          "name": "stderr",
          "text": [
            "\r[*********************100%%**********************]  1 of 1 completed\n"
          ]
        },
        {
          "output_type": "execute_result",
          "data": {
            "text/plain": [
              "109.38999938964844"
            ]
          },
          "metadata": {},
          "execution_count": 9
        }
      ]
    },
    {
      "cell_type": "markdown",
      "source": [
        "the median is 109"
      ],
      "metadata": {
        "id": "9j95jZ5jb00t"
      }
    },
    {
      "cell_type": "code",
      "source": [
        "data = yf.download(\"AMD\", period=\"2y\")\n",
        "data.Close.mode()"
      ],
      "metadata": {
        "colab": {
          "base_uri": "https://localhost:8080/",
          "height": 411
        },
        "id": "CNUK7-UMa8QM",
        "outputId": "c020c07f-5f0b-46fc-ce22-ee9e5c408158"
      },
      "execution_count": null,
      "outputs": [
        {
          "output_type": "stream",
          "name": "stderr",
          "text": [
            "\r[*********************100%%**********************]  1 of 1 completed\n"
          ]
        },
        {
          "output_type": "execute_result",
          "data": {
            "text/plain": [
              "0     75.250000\n",
              "1     76.769997\n",
              "2     84.639999\n",
              "3    106.589996\n",
              "4    115.820000\n",
              "5    117.930000\n",
              "6    138.580002\n",
              "7    160.250000\n",
              "8    174.229996\n",
              "9    178.699997\n",
              "Name: Close, dtype: float64"
            ],
            "text/html": [
              "<div>\n",
              "<style scoped>\n",
              "    .dataframe tbody tr th:only-of-type {\n",
              "        vertical-align: middle;\n",
              "    }\n",
              "\n",
              "    .dataframe tbody tr th {\n",
              "        vertical-align: top;\n",
              "    }\n",
              "\n",
              "    .dataframe thead th {\n",
              "        text-align: right;\n",
              "    }\n",
              "</style>\n",
              "<table border=\"1\" class=\"dataframe\">\n",
              "  <thead>\n",
              "    <tr style=\"text-align: right;\">\n",
              "      <th></th>\n",
              "      <th>Close</th>\n",
              "    </tr>\n",
              "  </thead>\n",
              "  <tbody>\n",
              "    <tr>\n",
              "      <th>0</th>\n",
              "      <td>75.250000</td>\n",
              "    </tr>\n",
              "    <tr>\n",
              "      <th>1</th>\n",
              "      <td>76.769997</td>\n",
              "    </tr>\n",
              "    <tr>\n",
              "      <th>2</th>\n",
              "      <td>84.639999</td>\n",
              "    </tr>\n",
              "    <tr>\n",
              "      <th>3</th>\n",
              "      <td>106.589996</td>\n",
              "    </tr>\n",
              "    <tr>\n",
              "      <th>4</th>\n",
              "      <td>115.820000</td>\n",
              "    </tr>\n",
              "    <tr>\n",
              "      <th>5</th>\n",
              "      <td>117.930000</td>\n",
              "    </tr>\n",
              "    <tr>\n",
              "      <th>6</th>\n",
              "      <td>138.580002</td>\n",
              "    </tr>\n",
              "    <tr>\n",
              "      <th>7</th>\n",
              "      <td>160.250000</td>\n",
              "    </tr>\n",
              "    <tr>\n",
              "      <th>8</th>\n",
              "      <td>174.229996</td>\n",
              "    </tr>\n",
              "    <tr>\n",
              "      <th>9</th>\n",
              "      <td>178.699997</td>\n",
              "    </tr>\n",
              "  </tbody>\n",
              "</table>\n",
              "</div><br><label><b>dtype:</b> float64</label>"
            ]
          },
          "metadata": {},
          "execution_count": 10
        }
      ]
    },
    {
      "cell_type": "markdown",
      "source": [
        "# 5 YEAR AMD STOCK INFO!!"
      ],
      "metadata": {
        "id": "Oafoc0JGa_FN"
      }
    },
    {
      "cell_type": "code",
      "source": [
        "data = yf.download(\"AMD\", period=\"5y\")\n",
        "data.Close.mean()"
      ],
      "metadata": {
        "colab": {
          "base_uri": "https://localhost:8080/"
        },
        "id": "1Cc7L0omaxAe",
        "outputId": "98a7e70e-d9fb-42d4-f7c0-8c92ab9f5ba5"
      },
      "execution_count": null,
      "outputs": [
        {
          "output_type": "stream",
          "name": "stderr",
          "text": [
            "\r[*********************100%%**********************]  1 of 1 completed\n"
          ]
        },
        {
          "output_type": "execute_result",
          "data": {
            "text/plain": [
              "95.17312145611898"
            ]
          },
          "metadata": {},
          "execution_count": 11
        }
      ]
    },
    {
      "cell_type": "markdown",
      "source": [
        "the mean is 95"
      ],
      "metadata": {
        "id": "40ll4JX4b4gH"
      }
    },
    {
      "cell_type": "code",
      "source": [
        "data = yf.download(\"AMD\", period=\"5y\")\n",
        "data.Close.median()"
      ],
      "metadata": {
        "colab": {
          "base_uri": "https://localhost:8080/"
        },
        "id": "T4khjezhbHs2",
        "outputId": "6744f958-5d26-43a4-b106-84c7b8920eac"
      },
      "execution_count": null,
      "outputs": [
        {
          "output_type": "stream",
          "name": "stderr",
          "text": [
            "\r[*********************100%%**********************]  1 of 1 completed\n"
          ]
        },
        {
          "output_type": "execute_result",
          "data": {
            "text/plain": [
              "90.26000213623047"
            ]
          },
          "metadata": {},
          "execution_count": 12
        }
      ]
    },
    {
      "cell_type": "markdown",
      "source": [
        "the median is 90"
      ],
      "metadata": {
        "id": "xwtXXUBJb73x"
      }
    },
    {
      "cell_type": "code",
      "source": [
        "data = yf.download(\"AMD\", period=\"5y\")\n",
        "data.Close.mode()"
      ],
      "metadata": {
        "colab": {
          "base_uri": "https://localhost:8080/",
          "height": 163
        },
        "id": "lT_irfG8bKpZ",
        "outputId": "a56d671a-1911-4d2b-acea-b7d850c61d0d"
      },
      "execution_count": null,
      "outputs": [
        {
          "output_type": "stream",
          "name": "stderr",
          "text": [
            "\r[*********************100%%**********************]  1 of 1 completed\n"
          ]
        },
        {
          "output_type": "execute_result",
          "data": {
            "text/plain": [
              "0    81.430000\n",
              "1    84.639999\n",
              "Name: Close, dtype: float64"
            ],
            "text/html": [
              "<div>\n",
              "<style scoped>\n",
              "    .dataframe tbody tr th:only-of-type {\n",
              "        vertical-align: middle;\n",
              "    }\n",
              "\n",
              "    .dataframe tbody tr th {\n",
              "        vertical-align: top;\n",
              "    }\n",
              "\n",
              "    .dataframe thead th {\n",
              "        text-align: right;\n",
              "    }\n",
              "</style>\n",
              "<table border=\"1\" class=\"dataframe\">\n",
              "  <thead>\n",
              "    <tr style=\"text-align: right;\">\n",
              "      <th></th>\n",
              "      <th>Close</th>\n",
              "    </tr>\n",
              "  </thead>\n",
              "  <tbody>\n",
              "    <tr>\n",
              "      <th>0</th>\n",
              "      <td>81.430000</td>\n",
              "    </tr>\n",
              "    <tr>\n",
              "      <th>1</th>\n",
              "      <td>84.639999</td>\n",
              "    </tr>\n",
              "  </tbody>\n",
              "</table>\n",
              "</div><br><label><b>dtype:</b> float64</label>"
            ]
          },
          "metadata": {},
          "execution_count": 14
        }
      ]
    },
    {
      "cell_type": "markdown",
      "source": [
        "# MARA INFORMATION!!"
      ],
      "metadata": {
        "id": "ZOU3JzJEbT6v"
      }
    },
    {
      "cell_type": "code",
      "source": [
        "print(mara.info)"
      ],
      "metadata": {
        "colab": {
          "base_uri": "https://localhost:8080/"
        },
        "id": "6ZKOllk4nyI-",
        "outputId": "da97a489-f08f-4d50-ca6d-83e55fff743f"
      },
      "execution_count": null,
      "outputs": [
        {
          "output_type": "stream",
          "name": "stdout",
          "text": [
            "{'address1': '101 NE Third Avenue', 'address2': 'Suite 1200', 'city': 'Fort Lauderdale', 'state': 'FL', 'zip': '33301', 'country': 'United States', 'phone': '800 804 1690', 'website': 'https://www.mara.com', 'industry': 'Capital Markets', 'industryKey': 'capital-markets', 'industryDisp': 'Capital Markets', 'sector': 'Financial Services', 'sectorKey': 'financial-services', 'sectorDisp': 'Financial Services', 'longBusinessSummary': 'Marathon Digital Holdings, Inc. operates as a digital asset technology company that mines digital assets with a focus on the bitcoin ecosystem in United States. The company was formerly known as Marathon Patent Group, Inc. and changed its name to Marathon Digital Holdings, Inc. in February 2021. Marathon Digital Holdings, Inc. was incorporated in 2010 and is headquartered in Fort Lauderdale, Florida.', 'fullTimeEmployees': 109, 'companyOfficers': [{'maxAge': 1, 'name': 'Mr. Frederick G. Thiel', 'age': 62, 'title': 'CEO & Executive Chairman', 'yearBorn': 1961, 'fiscalYear': 2023, 'totalPay': 2609900, 'exercisedValue': 0, 'unexercisedValue': 0}, {'maxAge': 1, 'name': 'Mr. Salman H. Khan', 'age': 44, 'title': 'Chief Financial Officer', 'yearBorn': 1979, 'fiscalYear': 2023, 'totalPay': 999437, 'exercisedValue': 0, 'unexercisedValue': 0}, {'maxAge': 1, 'name': 'Mr. James G. Crawford', 'age': 48, 'title': 'Chief Operating Officer', 'yearBorn': 1975, 'fiscalYear': 2023, 'totalPay': 782400, 'exercisedValue': 0, 'unexercisedValue': 0}, {'maxAge': 1, 'name': 'Mr. Ashu  Swami', 'age': 43, 'title': 'Chief Technology Officer', 'yearBorn': 1980, 'fiscalYear': 2023, 'totalPay': 723181, 'exercisedValue': 0, 'unexercisedValue': 0}, {'maxAge': 1, 'name': 'Mr. Adam  Swick', 'age': 33, 'title': 'Chief Growth Officer', 'yearBorn': 1990, 'fiscalYear': 2023, 'totalPay': 759900, 'exercisedValue': 0, 'unexercisedValue': 0}, {'maxAge': 1, 'name': 'Mr. John B. Ellis', 'age': 55, 'title': 'Chief Accounting Officer', 'yearBorn': 1968, 'fiscalYear': 2023, 'exercisedValue': 0, 'unexercisedValue': 0}, {'maxAge': 1, 'name': 'Mr. Robert  Samuels', 'title': 'Vice President of Investor Relations', 'fiscalYear': 2023, 'exercisedValue': 0, 'unexercisedValue': 0}, {'maxAge': 1, 'name': 'Zabi  Nowaid', 'title': 'General Counsel & Company Secretary', 'fiscalYear': 2023, 'exercisedValue': 0, 'unexercisedValue': 0}, {'maxAge': 1, 'name': 'Mr. Charlie  Schumacher', 'title': 'Director of Corporate Communications', 'fiscalYear': 2023, 'exercisedValue': 0, 'unexercisedValue': 0}, {'maxAge': 1, 'name': 'Mr. Narenderkumar Dharamveer Manoj Madnani', 'age': 52, 'title': 'Managing Director of EMEA Expansion', 'yearBorn': 1971, 'fiscalYear': 2023, 'exercisedValue': 0, 'unexercisedValue': 0}], 'auditRisk': 10, 'boardRisk': 9, 'compensationRisk': 9, 'shareHolderRightsRisk': 4, 'overallRisk': 10, 'governanceEpochDate': 1722470400, 'compensationAsOfEpochDate': 1703980800, 'maxAge': 86400, 'priceHint': 2, 'previousClose': 15.49, 'open': 15.71, 'dayLow': 14.91, 'dayHigh': 15.795, 'regularMarketPreviousClose': 15.49, 'regularMarketOpen': 15.71, 'regularMarketDayLow': 14.91, 'regularMarketDayHigh': 15.795, 'beta': 5.575, 'trailingPE': 16.822224, 'forwardPE': -94.62501, 'volume': 29289635, 'regularMarketVolume': 29289635, 'averageVolume': 45249535, 'averageVolume10days': 36086020, 'averageDailyVolume10Day': 36086020, 'bid': 15.12, 'ask': 15.15, 'bidSize': 2600, 'askSize': 2600, 'marketCap': 4458351616, 'fiftyTwoWeekLow': 7.16, 'fiftyTwoWeekHigh': 34.09, 'priceToSalesTrailing12Months': 7.8915305, 'fiftyDayAverage': 19.9898, 'twoHundredDayAverage': 19.05005, 'currency': 'USD', 'enterpriseValue': 4549267968, 'profitMargins': 0.51146, 'floatShares': 291276628, 'sharesOutstanding': 294475008, 'sharesShort': 69920937, 'sharesShortPriorMonth': 70467254, 'sharesShortPreviousMonthDate': 1719532800, 'dateShortInterest': 1722384000, 'sharesPercentSharesOut': 0.2374, 'heldPercentInsiders': 0.02, 'heldPercentInstitutions': 0.52937, 'shortRatio': 1.46, 'shortPercentOfFloat': 0.2601, 'impliedSharesOutstanding': 294475008, 'bookValue': 9.206, 'priceToBook': 1.6445796, 'lastFiscalYearEnd': 1703980800, 'nextFiscalYearEnd': 1735603200, 'mostRecentQuarter': 1719705600, 'netIncomeToCommon': 288950016, 'trailingEps': 0.9, 'forwardEps': -0.16, 'pegRatio': 0.49, 'lastSplitFactor': '1:4', 'lastSplitDate': 1554681600, 'enterpriseToRevenue': 8.052, 'enterpriseToEbitda': 11.926, '52WeekChange': 0.2359184, 'SandP52WeekChange': 0.24822903, 'exchange': 'NCM', 'quoteType': 'EQUITY', 'symbol': 'MARA', 'underlyingSymbol': 'MARA', 'shortName': 'Marathon Digital Holdings, Inc.', 'longName': 'Marathon Digital Holdings, Inc.', 'firstTradeDateEpochUtc': 1336138200, 'timeZoneFullName': 'America/New_York', 'timeZoneShortName': 'EDT', 'uuid': '52eca8e3-55f8-3341-9849-ac95ec110b2b', 'messageBoardId': 'finmb_158387416', 'gmtOffSetMilliseconds': -14400000, 'currentPrice': 15.14, 'targetHighPrice': 27.0, 'targetLowPrice': 19.0, 'targetMeanPrice': 22.69, 'targetMedianPrice': 21.75, 'recommendationMean': 2.5, 'recommendationKey': 'buy', 'numberOfAnalystOpinions': 8, 'totalCash': 256027008, 'totalCashPerShare': 0.869, 'ebitda': 381467008, 'totalDebt': 346948992, 'quickRatio': 2.77, 'currentRatio': 3.749, 'totalRevenue': 564953984, 'debtToEquity': 13.129, 'revenuePerShare': 2.39, 'returnOnAssets': 0.019129999, 'returnOnEquity': 0.17766, 'freeCashflow': 109672624, 'operatingCashflow': -376294016, 'revenueGrowth': 0.775, 'grossMargins': 0.43563998, 'ebitdaMargins': 0.67522, 'operatingMargins': -0.80605006, 'financialCurrency': 'USD', 'trailingPegRatio': None}\n"
          ]
        }
      ]
    },
    {
      "cell_type": "markdown",
      "source": [
        "# MONTH 1 STOCK INFO"
      ],
      "metadata": {
        "id": "a9kG_BRhiuqf"
      }
    },
    {
      "cell_type": "code",
      "source": [
        "data = yf.download(\"MARA\", period=\"1mo\")\n",
        "data.Close.mean()"
      ],
      "metadata": {
        "colab": {
          "base_uri": "https://localhost:8080/"
        },
        "id": "sDYGpnZSiuJN",
        "outputId": "97754f88-e63c-43fa-d208-889845b0a68f"
      },
      "execution_count": null,
      "outputs": [
        {
          "output_type": "stream",
          "name": "stderr",
          "text": [
            "\r[*********************100%%**********************]  1 of 1 completed\n"
          ]
        },
        {
          "output_type": "execute_result",
          "data": {
            "text/plain": [
              "19.77379580338796"
            ]
          },
          "metadata": {},
          "execution_count": 15
        }
      ]
    },
    {
      "cell_type": "markdown",
      "source": [
        "The mean is 20 rounded up to the nearest whole number"
      ],
      "metadata": {
        "id": "hc08D-_GlsWn"
      }
    },
    {
      "cell_type": "code",
      "source": [
        "data = yf.download(\"MARA\", period=\"1mo\")\n",
        "data.Close.median()"
      ],
      "metadata": {
        "colab": {
          "base_uri": "https://localhost:8080/"
        },
        "id": "m7CJUfBIi5i1",
        "outputId": "50175b98-27a1-491f-cf9b-c88c44c5f2ab"
      },
      "execution_count": null,
      "outputs": [
        {
          "output_type": "stream",
          "name": "stderr",
          "text": [
            "\r[*********************100%%**********************]  1 of 1 completed\n"
          ]
        },
        {
          "output_type": "execute_result",
          "data": {
            "text/plain": [
              "19.699999809265137"
            ]
          },
          "metadata": {},
          "execution_count": 16
        }
      ]
    },
    {
      "cell_type": "markdown",
      "source": [
        "The median is 20 rounded up to the nearest whole number"
      ],
      "metadata": {
        "id": "gb0l_vWllyge"
      }
    },
    {
      "cell_type": "code",
      "source": [
        "data = yf.download(\"MARA\", period=\"1mo\")\n",
        "data.Close.mode()"
      ],
      "metadata": {
        "colab": {
          "base_uri": "https://localhost:8080/",
          "height": 845
        },
        "id": "3Kw3UQaVi-Mi",
        "outputId": "f9b46ba1-8835-43e6-fbba-bbe7c727f031"
      },
      "execution_count": null,
      "outputs": [
        {
          "output_type": "stream",
          "name": "stderr",
          "text": [
            "\r[*********************100%%**********************]  1 of 1 completed\n"
          ]
        },
        {
          "output_type": "execute_result",
          "data": {
            "text/plain": [
              "0     15.110000\n",
              "1     15.140000\n",
              "2     15.490000\n",
              "3     15.840000\n",
              "4     15.889900\n",
              "5     16.950001\n",
              "6     17.030001\n",
              "7     17.190001\n",
              "8     17.250000\n",
              "9     17.389999\n",
              "10    18.139999\n",
              "11    19.670000\n",
              "12    19.730000\n",
              "13    20.280001\n",
              "14    20.450001\n",
              "15    20.670000\n",
              "16    21.570000\n",
              "17    21.650000\n",
              "18    23.650000\n",
              "19    23.950001\n",
              "20    24.580000\n",
              "21    24.730000\n",
              "22    25.549999\n",
              "23    26.719999\n",
              "Name: Close, dtype: float64"
            ],
            "text/html": [
              "<div>\n",
              "<style scoped>\n",
              "    .dataframe tbody tr th:only-of-type {\n",
              "        vertical-align: middle;\n",
              "    }\n",
              "\n",
              "    .dataframe tbody tr th {\n",
              "        vertical-align: top;\n",
              "    }\n",
              "\n",
              "    .dataframe thead th {\n",
              "        text-align: right;\n",
              "    }\n",
              "</style>\n",
              "<table border=\"1\" class=\"dataframe\">\n",
              "  <thead>\n",
              "    <tr style=\"text-align: right;\">\n",
              "      <th></th>\n",
              "      <th>Close</th>\n",
              "    </tr>\n",
              "  </thead>\n",
              "  <tbody>\n",
              "    <tr>\n",
              "      <th>0</th>\n",
              "      <td>15.110000</td>\n",
              "    </tr>\n",
              "    <tr>\n",
              "      <th>1</th>\n",
              "      <td>15.140000</td>\n",
              "    </tr>\n",
              "    <tr>\n",
              "      <th>2</th>\n",
              "      <td>15.490000</td>\n",
              "    </tr>\n",
              "    <tr>\n",
              "      <th>3</th>\n",
              "      <td>15.840000</td>\n",
              "    </tr>\n",
              "    <tr>\n",
              "      <th>4</th>\n",
              "      <td>15.889900</td>\n",
              "    </tr>\n",
              "    <tr>\n",
              "      <th>5</th>\n",
              "      <td>16.950001</td>\n",
              "    </tr>\n",
              "    <tr>\n",
              "      <th>6</th>\n",
              "      <td>17.030001</td>\n",
              "    </tr>\n",
              "    <tr>\n",
              "      <th>7</th>\n",
              "      <td>17.190001</td>\n",
              "    </tr>\n",
              "    <tr>\n",
              "      <th>8</th>\n",
              "      <td>17.250000</td>\n",
              "    </tr>\n",
              "    <tr>\n",
              "      <th>9</th>\n",
              "      <td>17.389999</td>\n",
              "    </tr>\n",
              "    <tr>\n",
              "      <th>10</th>\n",
              "      <td>18.139999</td>\n",
              "    </tr>\n",
              "    <tr>\n",
              "      <th>11</th>\n",
              "      <td>19.670000</td>\n",
              "    </tr>\n",
              "    <tr>\n",
              "      <th>12</th>\n",
              "      <td>19.730000</td>\n",
              "    </tr>\n",
              "    <tr>\n",
              "      <th>13</th>\n",
              "      <td>20.280001</td>\n",
              "    </tr>\n",
              "    <tr>\n",
              "      <th>14</th>\n",
              "      <td>20.450001</td>\n",
              "    </tr>\n",
              "    <tr>\n",
              "      <th>15</th>\n",
              "      <td>20.670000</td>\n",
              "    </tr>\n",
              "    <tr>\n",
              "      <th>16</th>\n",
              "      <td>21.570000</td>\n",
              "    </tr>\n",
              "    <tr>\n",
              "      <th>17</th>\n",
              "      <td>21.650000</td>\n",
              "    </tr>\n",
              "    <tr>\n",
              "      <th>18</th>\n",
              "      <td>23.650000</td>\n",
              "    </tr>\n",
              "    <tr>\n",
              "      <th>19</th>\n",
              "      <td>23.950001</td>\n",
              "    </tr>\n",
              "    <tr>\n",
              "      <th>20</th>\n",
              "      <td>24.580000</td>\n",
              "    </tr>\n",
              "    <tr>\n",
              "      <th>21</th>\n",
              "      <td>24.730000</td>\n",
              "    </tr>\n",
              "    <tr>\n",
              "      <th>22</th>\n",
              "      <td>25.549999</td>\n",
              "    </tr>\n",
              "    <tr>\n",
              "      <th>23</th>\n",
              "      <td>26.719999</td>\n",
              "    </tr>\n",
              "  </tbody>\n",
              "</table>\n",
              "</div><br><label><b>dtype:</b> float64</label>"
            ]
          },
          "metadata": {},
          "execution_count": 17
        }
      ]
    },
    {
      "cell_type": "markdown",
      "source": [
        "# 6 MONTH DATA INFO"
      ],
      "metadata": {
        "id": "d_ZG2bYCjBd7"
      }
    },
    {
      "cell_type": "code",
      "source": [
        "data = yf.download(\"MARA\", period=\"6mo\")\n",
        "data.Close.mean()"
      ],
      "metadata": {
        "colab": {
          "base_uri": "https://localhost:8080/"
        },
        "id": "FxHCQqRwi96c",
        "outputId": "e14b61e5-de9c-4c25-9c67-d1791c2d9907"
      },
      "execution_count": null,
      "outputs": [
        {
          "output_type": "stream",
          "name": "stderr",
          "text": [
            "\r[*********************100%%**********************]  1 of 1 completed\n"
          ]
        },
        {
          "output_type": "execute_result",
          "data": {
            "text/plain": [
              "20.246984118507022"
            ]
          },
          "metadata": {},
          "execution_count": 18
        }
      ]
    },
    {
      "cell_type": "markdown",
      "source": [
        "The mean is 20"
      ],
      "metadata": {
        "id": "iMkm8gKel2r0"
      }
    },
    {
      "cell_type": "code",
      "source": [
        "data = yf.download(\"MARA\", period=\"6mo\")\n",
        "data.Close.median()"
      ],
      "metadata": {
        "colab": {
          "base_uri": "https://localhost:8080/"
        },
        "id": "wetTSAJEi83r",
        "outputId": "52d79b22-bc8c-4a4c-a076-9d7b1c8be8fc"
      },
      "execution_count": null,
      "outputs": [
        {
          "output_type": "stream",
          "name": "stderr",
          "text": [
            "\r[*********************100%%**********************]  1 of 1 completed\n"
          ]
        },
        {
          "output_type": "execute_result",
          "data": {
            "text/plain": [
              "19.84000015258789"
            ]
          },
          "metadata": {},
          "execution_count": 19
        }
      ]
    },
    {
      "cell_type": "markdown",
      "source": [
        "the median is 20 rounded up to the nearest whole number"
      ],
      "metadata": {
        "id": "jZNErfewl5DU"
      }
    },
    {
      "cell_type": "code",
      "source": [
        "data = yf.download(\"MARA\", period=\"6mo\")\n",
        "data.Close.mode()"
      ],
      "metadata": {
        "colab": {
          "base_uri": "https://localhost:8080/",
          "height": 287
        },
        "id": "eIyRya9ti8sv",
        "outputId": "eb7775ce-d2ba-4b20-96b3-23874caf6640"
      },
      "execution_count": null,
      "outputs": [
        {
          "output_type": "stream",
          "name": "stderr",
          "text": [
            "\r[*********************100%%**********************]  1 of 1 completed\n"
          ]
        },
        {
          "output_type": "execute_result",
          "data": {
            "text/plain": [
              "0    19.320000\n",
              "1    19.430000\n",
              "2    19.650000\n",
              "3    19.730000\n",
              "4    20.280001\n",
              "5    20.670000\n",
              "Name: Close, dtype: float64"
            ],
            "text/html": [
              "<div>\n",
              "<style scoped>\n",
              "    .dataframe tbody tr th:only-of-type {\n",
              "        vertical-align: middle;\n",
              "    }\n",
              "\n",
              "    .dataframe tbody tr th {\n",
              "        vertical-align: top;\n",
              "    }\n",
              "\n",
              "    .dataframe thead th {\n",
              "        text-align: right;\n",
              "    }\n",
              "</style>\n",
              "<table border=\"1\" class=\"dataframe\">\n",
              "  <thead>\n",
              "    <tr style=\"text-align: right;\">\n",
              "      <th></th>\n",
              "      <th>Close</th>\n",
              "    </tr>\n",
              "  </thead>\n",
              "  <tbody>\n",
              "    <tr>\n",
              "      <th>0</th>\n",
              "      <td>19.320000</td>\n",
              "    </tr>\n",
              "    <tr>\n",
              "      <th>1</th>\n",
              "      <td>19.430000</td>\n",
              "    </tr>\n",
              "    <tr>\n",
              "      <th>2</th>\n",
              "      <td>19.650000</td>\n",
              "    </tr>\n",
              "    <tr>\n",
              "      <th>3</th>\n",
              "      <td>19.730000</td>\n",
              "    </tr>\n",
              "    <tr>\n",
              "      <th>4</th>\n",
              "      <td>20.280001</td>\n",
              "    </tr>\n",
              "    <tr>\n",
              "      <th>5</th>\n",
              "      <td>20.670000</td>\n",
              "    </tr>\n",
              "  </tbody>\n",
              "</table>\n",
              "</div><br><label><b>dtype:</b> float64</label>"
            ]
          },
          "metadata": {},
          "execution_count": 20
        }
      ]
    },
    {
      "cell_type": "markdown",
      "source": [
        "# 2 YEAR STOCK INFO"
      ],
      "metadata": {
        "id": "hBQVTVhRjZYG"
      }
    },
    {
      "cell_type": "code",
      "source": [
        "data = yf.download(\"MARA\", period=\"2y\")\n",
        "data.Close.mean()"
      ],
      "metadata": {
        "colab": {
          "base_uri": "https://localhost:8080/"
        },
        "id": "SQvFMSNsjZ9H",
        "outputId": "cc034eab-e515-4f42-8860-5e6028014d2c"
      },
      "execution_count": null,
      "outputs": [
        {
          "output_type": "stream",
          "name": "stderr",
          "text": [
            "\r[*********************100%%**********************]  1 of 1 completed\n"
          ]
        },
        {
          "output_type": "execute_result",
          "data": {
            "text/plain": [
              "13.555456356396752"
            ]
          },
          "metadata": {},
          "execution_count": 21
        }
      ]
    },
    {
      "cell_type": "markdown",
      "source": [
        "The mean is 14 rounded up to the nearest whole number"
      ],
      "metadata": {
        "id": "IPOJ9SEJmBL2"
      }
    },
    {
      "cell_type": "code",
      "source": [
        "data = yf.download(\"MARA\", period=\"2y\")\n",
        "data.Close.median()"
      ],
      "metadata": {
        "colab": {
          "base_uri": "https://localhost:8080/"
        },
        "id": "VQky1qfti8iW",
        "outputId": "2e445f9b-1787-4906-abdb-9f6127035f85"
      },
      "execution_count": null,
      "outputs": [
        {
          "output_type": "stream",
          "name": "stderr",
          "text": [
            "\r[*********************100%%**********************]  1 of 1 completed\n"
          ]
        },
        {
          "output_type": "execute_result",
          "data": {
            "text/plain": [
              "11.910000324249268"
            ]
          },
          "metadata": {},
          "execution_count": 23
        }
      ]
    },
    {
      "cell_type": "markdown",
      "source": [
        "The median is 12 rounded up to the nearest whole number"
      ],
      "metadata": {
        "id": "HnQYf3N7mGU7"
      }
    },
    {
      "cell_type": "code",
      "source": [
        "data = yf.download(\"MARA\", period=\"2y\")\n",
        "data.Close.mode()"
      ],
      "metadata": {
        "colab": {
          "base_uri": "https://localhost:8080/",
          "height": 132
        },
        "id": "pVQ55bmfi8VW",
        "outputId": "4791b6d7-f7ee-4620-ed15-a7e147e9519f"
      },
      "execution_count": null,
      "outputs": [
        {
          "output_type": "stream",
          "name": "stderr",
          "text": [
            "\r[*********************100%%**********************]  1 of 1 completed\n"
          ]
        },
        {
          "output_type": "execute_result",
          "data": {
            "text/plain": [
              "0    10.92\n",
              "Name: Close, dtype: float64"
            ],
            "text/html": [
              "<div>\n",
              "<style scoped>\n",
              "    .dataframe tbody tr th:only-of-type {\n",
              "        vertical-align: middle;\n",
              "    }\n",
              "\n",
              "    .dataframe tbody tr th {\n",
              "        vertical-align: top;\n",
              "    }\n",
              "\n",
              "    .dataframe thead th {\n",
              "        text-align: right;\n",
              "    }\n",
              "</style>\n",
              "<table border=\"1\" class=\"dataframe\">\n",
              "  <thead>\n",
              "    <tr style=\"text-align: right;\">\n",
              "      <th></th>\n",
              "      <th>Close</th>\n",
              "    </tr>\n",
              "  </thead>\n",
              "  <tbody>\n",
              "    <tr>\n",
              "      <th>0</th>\n",
              "      <td>10.92</td>\n",
              "    </tr>\n",
              "  </tbody>\n",
              "</table>\n",
              "</div><br><label><b>dtype:</b> float64</label>"
            ]
          },
          "metadata": {},
          "execution_count": 24
        }
      ]
    },
    {
      "cell_type": "markdown",
      "source": [
        "# 5 YEAR STOCK INFO!!!"
      ],
      "metadata": {
        "id": "19A15ze0jrdw"
      }
    },
    {
      "cell_type": "code",
      "source": [
        "data = yf.download(\"MARA\", period=\"5y\")\n",
        "data.Close.mean()"
      ],
      "metadata": {
        "colab": {
          "base_uri": "https://localhost:8080/"
        },
        "id": "Rar7GZNnjz47",
        "outputId": "fb57c9c0-c2d9-4439-e925-7910f9627f85"
      },
      "execution_count": null,
      "outputs": [
        {
          "output_type": "stream",
          "name": "stderr",
          "text": [
            "\r[*********************100%%**********************]  1 of 1 completed\n"
          ]
        },
        {
          "output_type": "execute_result",
          "data": {
            "text/plain": [
              "15.341540902924026"
            ]
          },
          "metadata": {},
          "execution_count": 25
        }
      ]
    },
    {
      "cell_type": "markdown",
      "source": [
        "The mean is 15"
      ],
      "metadata": {
        "id": "mUizW3ZmmL5x"
      }
    },
    {
      "cell_type": "code",
      "source": [
        "data = yf.download(\"MARA\", period=\"5y\")\n",
        "data.Close.median()"
      ],
      "metadata": {
        "colab": {
          "base_uri": "https://localhost:8080/"
        },
        "id": "yBUOCDAAj1qj",
        "outputId": "9e607cdb-fbbc-4bbb-e65b-f4f54f028e27"
      },
      "execution_count": null,
      "outputs": [
        {
          "output_type": "stream",
          "name": "stderr",
          "text": [
            "\r[*********************100%%**********************]  1 of 1 completed\n"
          ]
        },
        {
          "output_type": "execute_result",
          "data": {
            "text/plain": [
              "11.390000343322754"
            ]
          },
          "metadata": {},
          "execution_count": 26
        }
      ]
    },
    {
      "cell_type": "markdown",
      "source": [
        "The median is 11"
      ],
      "metadata": {
        "id": "Z2Bx6nIAmOy9"
      }
    },
    {
      "cell_type": "code",
      "source": [
        "data = yf.download(\"MARA\", period=\"5y\")\n",
        "data.Close.mode()"
      ],
      "metadata": {
        "colab": {
          "base_uri": "https://localhost:8080/",
          "height": 132
        },
        "id": "6tzrbAwAj3Oc",
        "outputId": "61a050a6-7194-48a9-f095-d6ad4016c641"
      },
      "execution_count": null,
      "outputs": [
        {
          "output_type": "stream",
          "name": "stderr",
          "text": [
            "\r[*********************100%%**********************]  1 of 1 completed\n"
          ]
        },
        {
          "output_type": "execute_result",
          "data": {
            "text/plain": [
              "0    0.93\n",
              "Name: Close, dtype: float64"
            ],
            "text/html": [
              "<div>\n",
              "<style scoped>\n",
              "    .dataframe tbody tr th:only-of-type {\n",
              "        vertical-align: middle;\n",
              "    }\n",
              "\n",
              "    .dataframe tbody tr th {\n",
              "        vertical-align: top;\n",
              "    }\n",
              "\n",
              "    .dataframe thead th {\n",
              "        text-align: right;\n",
              "    }\n",
              "</style>\n",
              "<table border=\"1\" class=\"dataframe\">\n",
              "  <thead>\n",
              "    <tr style=\"text-align: right;\">\n",
              "      <th></th>\n",
              "      <th>Close</th>\n",
              "    </tr>\n",
              "  </thead>\n",
              "  <tbody>\n",
              "    <tr>\n",
              "      <th>0</th>\n",
              "      <td>0.93</td>\n",
              "    </tr>\n",
              "  </tbody>\n",
              "</table>\n",
              "</div><br><label><b>dtype:</b> float64</label>"
            ]
          },
          "metadata": {},
          "execution_count": 27
        }
      ]
    },
    {
      "cell_type": "markdown",
      "source": [],
      "metadata": {
        "id": "2_5NhPSli2KK"
      }
    },
    {
      "cell_type": "code",
      "source": [
        "print(googl.info)"
      ],
      "metadata": {
        "colab": {
          "base_uri": "https://localhost:8080/"
        },
        "id": "hXXGsXyCn1aX",
        "outputId": "45ba9555-6707-4342-bfb6-f57e7c4a073c"
      },
      "execution_count": null,
      "outputs": [
        {
          "output_type": "stream",
          "name": "stdout",
          "text": [
            "{'address1': '1600 Amphitheatre Parkway', 'city': 'Mountain View', 'state': 'CA', 'zip': '94043', 'country': 'United States', 'phone': '650 253 0000', 'website': 'https://abc.xyz', 'industry': 'Internet Content & Information', 'industryKey': 'internet-content-information', 'industryDisp': 'Internet Content & Information', 'sector': 'Communication Services', 'sectorKey': 'communication-services', 'sectorDisp': 'Communication Services', 'longBusinessSummary': 'Alphabet Inc. offers various products and platforms in the United States, Europe, the Middle East, Africa, the Asia-Pacific, Canada, and Latin America. It operates through Google Services, Google Cloud, and Other Bets segments. The Google Services segment provides products and services, including ads, Android, Chrome, devices, Gmail, Google Drive, Google Maps, Google Photos, Google Play, Search, and YouTube. It is also involved in the sale of apps and in-app purchases and digital content in the Google Play and YouTube; and devices, as well as in the provision of YouTube consumer subscription services. The Google Cloud segment offers infrastructure, cybersecurity, databases, analytics, AI, and other services; Google Workspace that include cloud-based communication and collaboration tools for enterprises, such as Gmail, Docs, Drive, Calendar, and Meet; and other services for enterprise customers. The Other Bets segment sells healthcare-related and internet services. The company was incorporated in 1998 and is headquartered in Mountain View, California.', 'fullTimeEmployees': 179582, 'companyOfficers': [{'maxAge': 1, 'name': 'Mr. Sundar  Pichai', 'age': 50, 'title': 'CEO & Director', 'yearBorn': 1973, 'fiscalYear': 2023, 'totalPay': 8802824, 'exercisedValue': 0, 'unexercisedValue': 0}, {'maxAge': 1, 'name': 'Ms. Ruth M. Porat', 'age': 65, 'title': 'President & Chief Investment Officer', 'yearBorn': 1958, 'fiscalYear': 2023, 'totalPay': 2515700, 'exercisedValue': 0, 'unexercisedValue': 0}, {'maxAge': 1, 'name': 'Dr. Lawrence Edward Page II', 'age': 50, 'title': 'Co-Founder & Director', 'yearBorn': 1973, 'fiscalYear': 2023, 'totalPay': 1, 'exercisedValue': 0, 'unexercisedValue': 0}, {'maxAge': 1, 'name': 'Mr. Sergey  Brin', 'age': 49, 'title': 'Co-Founder & Director', 'yearBorn': 1974, 'fiscalYear': 2023, 'totalPay': 1, 'exercisedValue': 0, 'unexercisedValue': 0}, {'maxAge': 1, 'name': 'Mr. J. Kent Walker', 'age': 62, 'title': 'President of Global Affairs, Chief Legal Officer & Company Secretary', 'yearBorn': 1961, 'fiscalYear': 2023, 'totalPay': 2511737, 'exercisedValue': 0, 'unexercisedValue': 0}, {'maxAge': 1, 'name': 'Dr. Prabhakar  Raghavan', 'age': 62, 'title': 'Senior Vice President of Knowledge and Information - Google', 'yearBorn': 1961, 'fiscalYear': 2023, 'totalPay': 2511737, 'exercisedValue': 0, 'unexercisedValue': 0}, {'maxAge': 1, 'name': 'Mr. Philipp  Schindler', 'age': 52, 'title': 'Senior Vice President & Chief Business Officer of Google', 'yearBorn': 1971, 'fiscalYear': 2023, 'totalPay': 2514032, 'exercisedValue': 0, 'unexercisedValue': 0}, {'maxAge': 1, 'name': 'Ms. Anat  Ashkenazi', 'age': 50, 'title': 'Senior VP & CFO', 'yearBorn': 1973, 'fiscalYear': 2023, 'exercisedValue': 0, 'unexercisedValue': 0}, {'maxAge': 1, 'name': \"Ms. Amie Thuener O'Toole\", 'age': 48, 'title': 'Chief Accounting Officer & VP', 'yearBorn': 1975, 'fiscalYear': 2023, 'exercisedValue': 0, 'unexercisedValue': 0}, {'maxAge': 1, 'name': 'Ms. Ellen  West', 'title': 'Vice President of Investor Relations', 'fiscalYear': 2023, 'exercisedValue': 0, 'unexercisedValue': 0}], 'auditRisk': 9, 'boardRisk': 8, 'compensationRisk': 10, 'shareHolderRightsRisk': 10, 'overallRisk': 10, 'governanceEpochDate': 1722470400, 'compensationAsOfEpochDate': 1703980800, 'maxAge': 86400, 'priceHint': 2, 'previousClose': 164.16, 'open': 162.4, 'dayLow': 157.71, 'dayHigh': 163.215, 'regularMarketPreviousClose': 164.16, 'regularMarketOpen': 162.4, 'regularMarketDayLow': 157.71, 'regularMarketDayHigh': 163.215, 'dividendRate': 0.8, 'dividendYield': 0.005, 'exDividendDate': 1725840000, 'payoutRatio': 0.0287, 'beta': 1.046, 'trailingPE': 22.975643, 'forwardPE': 18.454546, 'volume': 39883890, 'regularMarketVolume': 39883890, 'averageVolume': 24996229, 'averageVolume10days': 31062070, 'averageDailyVolume10Day': 31062070, 'bid': 151.03, 'ask': 167.4, 'bidSize': 100, 'askSize': 100, 'marketCap': 1983424102400, 'fiftyTwoWeekLow': 120.21, 'fiftyTwoWeekHigh': 191.75, 'priceToSalesTrailing12Months': 6.0417933, 'fiftyDayAverage': 176.0832, 'twoHundredDayAverage': 154.1444, 'trailingAnnualDividendRate': 0.2, 'trailingAnnualDividendYield': 0.0012183236, 'currency': 'USD', 'enterpriseValue': 1902148714496, 'profitMargins': 0.26702, 'floatShares': 10983597500, 'sharesOutstanding': 5858999808, 'sharesShort': 65675575, 'sharesShortPriorMonth': 70084395, 'sharesShortPreviousMonthDate': 1719532800, 'dateShortInterest': 1722384000, 'sharesPercentSharesOut': 0.0053, 'heldPercentInsiders': 0.00246, 'heldPercentInstitutions': 0.81521004, 'shortRatio': 2.75, 'shortPercentOfFloat': 0.0112, 'impliedSharesOutstanding': 12367800320, 'bookValue': 24.408, 'priceToBook': 6.5703864, 'lastFiscalYearEnd': 1703980800, 'nextFiscalYearEnd': 1735603200, 'mostRecentQuarter': 1719705600, 'earningsQuarterlyGrowth': 0.286, 'netIncomeToCommon': 87656996864, 'trailingEps': 6.98, 'forwardEps': 8.69, 'pegRatio': 1.02, 'lastSplitFactor': '20:1', 'lastSplitDate': 1658102400, 'enterpriseToRevenue': 5.794, 'enterpriseToEbitda': 16.472, '52WeekChange': 0.234375, 'SandP52WeekChange': 0.24822903, 'lastDividendValue': 0.2, 'lastDividendDate': 1717977600, 'exchange': 'NMS', 'quoteType': 'EQUITY', 'symbol': 'GOOGL', 'underlyingSymbol': 'GOOGL', 'shortName': 'Alphabet Inc.', 'longName': 'Alphabet Inc.', 'firstTradeDateEpochUtc': 1092922200, 'timeZoneFullName': 'America/New_York', 'timeZoneShortName': 'EDT', 'uuid': 'e15ce71f-f533-3912-9f11-a46c09e2412b', 'messageBoardId': 'finmb_29096', 'gmtOffSetMilliseconds': -14400000, 'currentPrice': 160.37, 'targetHighPrice': 234.59, 'targetLowPrice': 170.0, 'targetMeanPrice': 203.91, 'targetMedianPrice': 205.0, 'recommendationMean': 1.9, 'recommendationKey': 'buy', 'numberOfAnalystOpinions': 45, 'totalCash': 100724998144, 'totalCashPerShare': 8.182, 'ebitda': 115478003712, 'totalDebt': 28718999552, 'quickRatio': 1.897, 'currentRatio': 2.079, 'totalRevenue': 328284012544, 'debtToEquity': 9.549, 'revenuePerShare': 26.353, 'returnOnAssets': 0.15961, 'returnOnEquity': 0.30871, 'freeCashflow': 43988500480, 'operatingCashflow': 105059000320, 'earningsGrowth': 0.314, 'revenueGrowth': 0.136, 'grossMargins': 0.57639, 'ebitdaMargins': 0.35176, 'operatingMargins': 0.32362998, 'financialCurrency': 'USD', 'trailingPegRatio': 1.1646}\n"
          ]
        }
      ]
    },
    {
      "cell_type": "markdown",
      "source": [
        "# GOOGLE MONTH 1 STOCK INFO"
      ],
      "metadata": {
        "id": "Ra4lzx5fkMt2"
      }
    },
    {
      "cell_type": "code",
      "source": [
        "data = yf.download(\"GOOGL\", period=\"1mo\")\n",
        "data.Close.mean()"
      ],
      "metadata": {
        "colab": {
          "base_uri": "https://localhost:8080/"
        },
        "id": "ywIDSjEtkSQx",
        "outputId": "6cc0a64f-e4bc-462e-ff15-dc6bd41b417b"
      },
      "execution_count": null,
      "outputs": [
        {
          "output_type": "stream",
          "name": "stderr",
          "text": [
            "\r[*********************100%%**********************]  1 of 1 completed\n"
          ]
        },
        {
          "output_type": "execute_result",
          "data": {
            "text/plain": [
              "169.78333218892416"
            ]
          },
          "metadata": {},
          "execution_count": 28
        }
      ]
    },
    {
      "cell_type": "markdown",
      "source": [
        "The mean is 170 rounded up to the nearest whole number"
      ],
      "metadata": {
        "id": "wZ3_cT5NmRX2"
      }
    },
    {
      "cell_type": "code",
      "source": [
        "data = yf.download(\"GOOGL\", period=\"1mo\")\n",
        "data.Close.median()"
      ],
      "metadata": {
        "colab": {
          "base_uri": "https://localhost:8080/"
        },
        "id": "_LZ1zoHnkU6e",
        "outputId": "d1e98a2c-117c-41a2-a821-d2b7fa700bae"
      },
      "execution_count": null,
      "outputs": [
        {
          "output_type": "stream",
          "name": "stderr",
          "text": [
            "\r[*********************100%%**********************]  1 of 1 completed\n"
          ]
        },
        {
          "output_type": "execute_result",
          "data": {
            "text/plain": [
              "168.40499877929688"
            ]
          },
          "metadata": {},
          "execution_count": 29
        }
      ]
    },
    {
      "cell_type": "markdown",
      "source": [
        "The median is 168"
      ],
      "metadata": {
        "id": "w1iiwi_dmR1S"
      }
    },
    {
      "cell_type": "code",
      "source": [
        "data = yf.download(\"GOOGL\", period=\"1mo\")\n",
        "data.Close.mode()"
      ],
      "metadata": {
        "colab": {
          "base_uri": "https://localhost:8080/",
          "height": 845
        },
        "id": "ovaI_eedkXQc",
        "outputId": "8a5daf7e-255a-4caa-cc5d-359580b45d16"
      },
      "execution_count": null,
      "outputs": [
        {
          "output_type": "stream",
          "name": "stderr",
          "text": [
            "\r[*********************100%%**********************]  1 of 1 completed\n"
          ]
        },
        {
          "output_type": "execute_result",
          "data": {
            "text/plain": [
              "0     158.289993\n",
              "1     158.940002\n",
              "2     159.250000\n",
              "3     159.835007\n",
              "4     160.369995\n",
              "5     162.029999\n",
              "6     162.289993\n",
              "7     163.669998\n",
              "8     164.160004\n",
              "9     166.660004\n",
              "10    167.000000\n",
              "11    167.279999\n",
              "12    169.529999\n",
              "13    170.289993\n",
              "14    170.759995\n",
              "15    171.539993\n",
              "16    172.630005\n",
              "17    177.660004\n",
              "18    177.690002\n",
              "19    181.020004\n",
              "20    181.669998\n",
              "21    181.789993\n",
              "22    183.919998\n",
              "23    186.529999\n",
              "Name: Close, dtype: float64"
            ],
            "text/html": [
              "<div>\n",
              "<style scoped>\n",
              "    .dataframe tbody tr th:only-of-type {\n",
              "        vertical-align: middle;\n",
              "    }\n",
              "\n",
              "    .dataframe tbody tr th {\n",
              "        vertical-align: top;\n",
              "    }\n",
              "\n",
              "    .dataframe thead th {\n",
              "        text-align: right;\n",
              "    }\n",
              "</style>\n",
              "<table border=\"1\" class=\"dataframe\">\n",
              "  <thead>\n",
              "    <tr style=\"text-align: right;\">\n",
              "      <th></th>\n",
              "      <th>Close</th>\n",
              "    </tr>\n",
              "  </thead>\n",
              "  <tbody>\n",
              "    <tr>\n",
              "      <th>0</th>\n",
              "      <td>158.289993</td>\n",
              "    </tr>\n",
              "    <tr>\n",
              "      <th>1</th>\n",
              "      <td>158.940002</td>\n",
              "    </tr>\n",
              "    <tr>\n",
              "      <th>2</th>\n",
              "      <td>159.250000</td>\n",
              "    </tr>\n",
              "    <tr>\n",
              "      <th>3</th>\n",
              "      <td>159.835007</td>\n",
              "    </tr>\n",
              "    <tr>\n",
              "      <th>4</th>\n",
              "      <td>160.369995</td>\n",
              "    </tr>\n",
              "    <tr>\n",
              "      <th>5</th>\n",
              "      <td>162.029999</td>\n",
              "    </tr>\n",
              "    <tr>\n",
              "      <th>6</th>\n",
              "      <td>162.289993</td>\n",
              "    </tr>\n",
              "    <tr>\n",
              "      <th>7</th>\n",
              "      <td>163.669998</td>\n",
              "    </tr>\n",
              "    <tr>\n",
              "      <th>8</th>\n",
              "      <td>164.160004</td>\n",
              "    </tr>\n",
              "    <tr>\n",
              "      <th>9</th>\n",
              "      <td>166.660004</td>\n",
              "    </tr>\n",
              "    <tr>\n",
              "      <th>10</th>\n",
              "      <td>167.000000</td>\n",
              "    </tr>\n",
              "    <tr>\n",
              "      <th>11</th>\n",
              "      <td>167.279999</td>\n",
              "    </tr>\n",
              "    <tr>\n",
              "      <th>12</th>\n",
              "      <td>169.529999</td>\n",
              "    </tr>\n",
              "    <tr>\n",
              "      <th>13</th>\n",
              "      <td>170.289993</td>\n",
              "    </tr>\n",
              "    <tr>\n",
              "      <th>14</th>\n",
              "      <td>170.759995</td>\n",
              "    </tr>\n",
              "    <tr>\n",
              "      <th>15</th>\n",
              "      <td>171.539993</td>\n",
              "    </tr>\n",
              "    <tr>\n",
              "      <th>16</th>\n",
              "      <td>172.630005</td>\n",
              "    </tr>\n",
              "    <tr>\n",
              "      <th>17</th>\n",
              "      <td>177.660004</td>\n",
              "    </tr>\n",
              "    <tr>\n",
              "      <th>18</th>\n",
              "      <td>177.690002</td>\n",
              "    </tr>\n",
              "    <tr>\n",
              "      <th>19</th>\n",
              "      <td>181.020004</td>\n",
              "    </tr>\n",
              "    <tr>\n",
              "      <th>20</th>\n",
              "      <td>181.669998</td>\n",
              "    </tr>\n",
              "    <tr>\n",
              "      <th>21</th>\n",
              "      <td>181.789993</td>\n",
              "    </tr>\n",
              "    <tr>\n",
              "      <th>22</th>\n",
              "      <td>183.919998</td>\n",
              "    </tr>\n",
              "    <tr>\n",
              "      <th>23</th>\n",
              "      <td>186.529999</td>\n",
              "    </tr>\n",
              "  </tbody>\n",
              "</table>\n",
              "</div><br><label><b>dtype:</b> float64</label>"
            ]
          },
          "metadata": {},
          "execution_count": 30
        }
      ]
    },
    {
      "cell_type": "markdown",
      "source": [
        "# 6 MONTH STOCK INFO"
      ],
      "metadata": {
        "id": "RPPRtfVnkb6u"
      }
    },
    {
      "cell_type": "code",
      "source": [
        "data = yf.download(\"GOOGL\", period=\"6mo\")\n",
        "data.Close.mean()"
      ],
      "metadata": {
        "colab": {
          "base_uri": "https://localhost:8080/"
        },
        "id": "GmuqZgIUkW4s",
        "outputId": "351b4d18-dc6d-4cff-ad75-589a5014e749"
      },
      "execution_count": null,
      "outputs": [
        {
          "output_type": "stream",
          "name": "stderr",
          "text": [
            "\r[*********************100%%**********************]  1 of 1 completed\n"
          ]
        },
        {
          "output_type": "execute_result",
          "data": {
            "text/plain": [
              "163.76571425180586"
            ]
          },
          "metadata": {},
          "execution_count": 31
        }
      ]
    },
    {
      "cell_type": "markdown",
      "source": [
        "The mean is 164 rounded up to the nearest whole number"
      ],
      "metadata": {
        "id": "e-Hg9mtpmgnb"
      }
    },
    {
      "cell_type": "code",
      "source": [
        "data = yf.download(\"GOOGL\", period=\"6mo\")\n",
        "data.Close.median()"
      ],
      "metadata": {
        "colab": {
          "base_uri": "https://localhost:8080/"
        },
        "id": "Cnjim4SWkjgO",
        "outputId": "849cff5c-a59f-4dab-ab90-384545f6da70"
      },
      "execution_count": null,
      "outputs": [
        {
          "output_type": "stream",
          "name": "stderr",
          "text": [
            "\r[*********************100%%**********************]  1 of 1 completed\n"
          ]
        },
        {
          "output_type": "execute_result",
          "data": {
            "text/plain": [
              "166.8300018310547"
            ]
          },
          "metadata": {},
          "execution_count": 32
        }
      ]
    },
    {
      "cell_type": "markdown",
      "source": [
        "The median is 167 rounded up to the nearest whole number."
      ],
      "metadata": {
        "id": "TxqBa5xUmkfr"
      }
    },
    {
      "cell_type": "code",
      "source": [
        "data = yf.download(\"GOOGL\", period=\"6mo\")\n",
        "data.Close.mode()"
      ],
      "metadata": {
        "colab": {
          "base_uri": "https://localhost:8080/",
          "height": 471
        },
        "id": "IulzRIHVklAe",
        "outputId": "6c9711c5-9519-4d0f-d21d-158b335ec713"
      },
      "execution_count": null,
      "outputs": [
        {
          "output_type": "stream",
          "name": "stderr",
          "text": [
            "\r[*********************100%%**********************]  1 of 1 completed\n"
          ]
        },
        {
          "output_type": "execute_result",
          "data": {
            "text/plain": [
              "0      131.399994\n",
              "1      132.669998\n",
              "2      133.350006\n",
              "3      134.380005\n",
              "4      135.410004\n",
              "          ...    \n",
              "121    186.529999\n",
              "122    188.979996\n",
              "123    189.029999\n",
              "124    190.600006\n",
              "125    191.179993\n",
              "Name: Close, Length: 126, dtype: float64"
            ],
            "text/html": [
              "<div>\n",
              "<style scoped>\n",
              "    .dataframe tbody tr th:only-of-type {\n",
              "        vertical-align: middle;\n",
              "    }\n",
              "\n",
              "    .dataframe tbody tr th {\n",
              "        vertical-align: top;\n",
              "    }\n",
              "\n",
              "    .dataframe thead th {\n",
              "        text-align: right;\n",
              "    }\n",
              "</style>\n",
              "<table border=\"1\" class=\"dataframe\">\n",
              "  <thead>\n",
              "    <tr style=\"text-align: right;\">\n",
              "      <th></th>\n",
              "      <th>Close</th>\n",
              "    </tr>\n",
              "  </thead>\n",
              "  <tbody>\n",
              "    <tr>\n",
              "      <th>0</th>\n",
              "      <td>131.399994</td>\n",
              "    </tr>\n",
              "    <tr>\n",
              "      <th>1</th>\n",
              "      <td>132.669998</td>\n",
              "    </tr>\n",
              "    <tr>\n",
              "      <th>2</th>\n",
              "      <td>133.350006</td>\n",
              "    </tr>\n",
              "    <tr>\n",
              "      <th>3</th>\n",
              "      <td>134.380005</td>\n",
              "    </tr>\n",
              "    <tr>\n",
              "      <th>4</th>\n",
              "      <td>135.410004</td>\n",
              "    </tr>\n",
              "    <tr>\n",
              "      <th>...</th>\n",
              "      <td>...</td>\n",
              "    </tr>\n",
              "    <tr>\n",
              "      <th>121</th>\n",
              "      <td>186.529999</td>\n",
              "    </tr>\n",
              "    <tr>\n",
              "      <th>122</th>\n",
              "      <td>188.979996</td>\n",
              "    </tr>\n",
              "    <tr>\n",
              "      <th>123</th>\n",
              "      <td>189.029999</td>\n",
              "    </tr>\n",
              "    <tr>\n",
              "      <th>124</th>\n",
              "      <td>190.600006</td>\n",
              "    </tr>\n",
              "    <tr>\n",
              "      <th>125</th>\n",
              "      <td>191.179993</td>\n",
              "    </tr>\n",
              "  </tbody>\n",
              "</table>\n",
              "<p>126 rows × 1 columns</p>\n",
              "</div><br><label><b>dtype:</b> float64</label>"
            ]
          },
          "metadata": {},
          "execution_count": 33
        }
      ]
    },
    {
      "cell_type": "markdown",
      "source": [
        "# 2 YEAR STOCK INFO"
      ],
      "metadata": {
        "id": "mgInfJmCkrpR"
      }
    },
    {
      "cell_type": "code",
      "source": [
        "data = yf.download(\"GOOGL\", period=\"2y\")\n",
        "data.Close.mean()"
      ],
      "metadata": {
        "colab": {
          "base_uri": "https://localhost:8080/"
        },
        "id": "U_2JNyyskvCe",
        "outputId": "31594191-5a78-4e63-d837-40ef40d6f839"
      },
      "execution_count": null,
      "outputs": [
        {
          "output_type": "stream",
          "name": "stderr",
          "text": [
            "\r[*********************100%%**********************]  1 of 1 completed\n"
          ]
        },
        {
          "output_type": "execute_result",
          "data": {
            "text/plain": [
              "127.8915576329307"
            ]
          },
          "metadata": {},
          "execution_count": 34
        }
      ]
    },
    {
      "cell_type": "markdown",
      "source": [
        "The mean is 128 rounded up to the nearest whole number"
      ],
      "metadata": {
        "id": "bVgj25yGmquQ"
      }
    },
    {
      "cell_type": "code",
      "source": [
        "data = yf.download(\"GOOGL\", period=\"2y\")\n",
        "data.Close.median()"
      ],
      "metadata": {
        "colab": {
          "base_uri": "https://localhost:8080/"
        },
        "id": "nGbEfCjHk0HB",
        "outputId": "68285aa0-beb3-451b-ae27-e5ed01adbf8e"
      },
      "execution_count": null,
      "outputs": [
        {
          "output_type": "stream",
          "name": "stderr",
          "text": [
            "\r[*********************100%%**********************]  1 of 1 completed\n"
          ]
        },
        {
          "output_type": "execute_result",
          "data": {
            "text/plain": [
              "129.09000396728516"
            ]
          },
          "metadata": {},
          "execution_count": 35
        }
      ]
    },
    {
      "cell_type": "markdown",
      "source": [
        "The median is 129"
      ],
      "metadata": {
        "id": "9nmjvuT0mzJh"
      }
    },
    {
      "cell_type": "code",
      "source": [
        "data = yf.download(\"GOOGL\", period=\"2y\")\n",
        "data.Close.mode()"
      ],
      "metadata": {
        "colab": {
          "base_uri": "https://localhost:8080/",
          "height": 535
        },
        "id": "VIQkNs0Lk1iP",
        "outputId": "79e1883d-2a47-406c-c633-afc44a1b526c"
      },
      "execution_count": null,
      "outputs": [
        {
          "output_type": "stream",
          "name": "stderr",
          "text": [
            "\r[*********************100%%**********************]  1 of 1 completed\n"
          ]
        },
        {
          "output_type": "execute_result",
          "data": {
            "text/plain": [
              "0      96.940002\n",
              "1      99.370003\n",
              "2      99.970001\n",
              "3     100.989998\n",
              "4     105.410004\n",
              "5     105.970001\n",
              "6     123.669998\n",
              "7     129.270004\n",
              "8     129.779999\n",
              "9     130.250000\n",
              "10    131.399994\n",
              "11    134.990005\n",
              "12    136.380005\n",
              "13    136.929993\n",
              "Name: Close, dtype: float64"
            ],
            "text/html": [
              "<div>\n",
              "<style scoped>\n",
              "    .dataframe tbody tr th:only-of-type {\n",
              "        vertical-align: middle;\n",
              "    }\n",
              "\n",
              "    .dataframe tbody tr th {\n",
              "        vertical-align: top;\n",
              "    }\n",
              "\n",
              "    .dataframe thead th {\n",
              "        text-align: right;\n",
              "    }\n",
              "</style>\n",
              "<table border=\"1\" class=\"dataframe\">\n",
              "  <thead>\n",
              "    <tr style=\"text-align: right;\">\n",
              "      <th></th>\n",
              "      <th>Close</th>\n",
              "    </tr>\n",
              "  </thead>\n",
              "  <tbody>\n",
              "    <tr>\n",
              "      <th>0</th>\n",
              "      <td>96.940002</td>\n",
              "    </tr>\n",
              "    <tr>\n",
              "      <th>1</th>\n",
              "      <td>99.370003</td>\n",
              "    </tr>\n",
              "    <tr>\n",
              "      <th>2</th>\n",
              "      <td>99.970001</td>\n",
              "    </tr>\n",
              "    <tr>\n",
              "      <th>3</th>\n",
              "      <td>100.989998</td>\n",
              "    </tr>\n",
              "    <tr>\n",
              "      <th>4</th>\n",
              "      <td>105.410004</td>\n",
              "    </tr>\n",
              "    <tr>\n",
              "      <th>5</th>\n",
              "      <td>105.970001</td>\n",
              "    </tr>\n",
              "    <tr>\n",
              "      <th>6</th>\n",
              "      <td>123.669998</td>\n",
              "    </tr>\n",
              "    <tr>\n",
              "      <th>7</th>\n",
              "      <td>129.270004</td>\n",
              "    </tr>\n",
              "    <tr>\n",
              "      <th>8</th>\n",
              "      <td>129.779999</td>\n",
              "    </tr>\n",
              "    <tr>\n",
              "      <th>9</th>\n",
              "      <td>130.250000</td>\n",
              "    </tr>\n",
              "    <tr>\n",
              "      <th>10</th>\n",
              "      <td>131.399994</td>\n",
              "    </tr>\n",
              "    <tr>\n",
              "      <th>11</th>\n",
              "      <td>134.990005</td>\n",
              "    </tr>\n",
              "    <tr>\n",
              "      <th>12</th>\n",
              "      <td>136.380005</td>\n",
              "    </tr>\n",
              "    <tr>\n",
              "      <th>13</th>\n",
              "      <td>136.929993</td>\n",
              "    </tr>\n",
              "  </tbody>\n",
              "</table>\n",
              "</div><br><label><b>dtype:</b> float64</label>"
            ]
          },
          "metadata": {},
          "execution_count": 37
        }
      ]
    },
    {
      "cell_type": "markdown",
      "source": [
        "# 5 YEAR STOCK INFO!!"
      ],
      "metadata": {
        "id": "ipgV3Z1zk7OZ"
      }
    },
    {
      "cell_type": "code",
      "source": [
        "data = yf.download(\"GOOGL\", period=\"5y\")\n",
        "data.Close.mean()"
      ],
      "metadata": {
        "colab": {
          "base_uri": "https://localhost:8080/"
        },
        "id": "fofGQJX1k5tM",
        "outputId": "84ced5a7-1d36-41d0-c8bf-be0e37501745"
      },
      "execution_count": null,
      "outputs": [
        {
          "output_type": "stream",
          "name": "stderr",
          "text": [
            "\r[*********************100%%**********************]  1 of 1 completed\n"
          ]
        },
        {
          "output_type": "execute_result",
          "data": {
            "text/plain": [
              "110.94596389212998"
            ]
          },
          "metadata": {},
          "execution_count": 38
        }
      ]
    },
    {
      "cell_type": "markdown",
      "source": [
        "The mean is 111 rounded up to the nearest whole number"
      ],
      "metadata": {
        "id": "Yakw7-SOnv9w"
      }
    },
    {
      "cell_type": "code",
      "source": [
        "data = yf.download(\"GOOGL\", period=\"5y\")\n",
        "data.Close.median()"
      ],
      "metadata": {
        "colab": {
          "base_uri": "https://localhost:8080/"
        },
        "id": "-Q8d6S8zlDNi",
        "outputId": "4e25461d-a15b-4727-da40-c1cae272b583"
      },
      "execution_count": null,
      "outputs": [
        {
          "output_type": "stream",
          "name": "stderr",
          "text": [
            "\r[*********************100%%**********************]  1 of 1 completed\n"
          ]
        },
        {
          "output_type": "execute_result",
          "data": {
            "text/plain": [
              "113.12349700927734"
            ]
          },
          "metadata": {},
          "execution_count": 39
        }
      ]
    },
    {
      "cell_type": "markdown",
      "source": [
        "The median is 113"
      ],
      "metadata": {
        "id": "WqBBKdumn1cY"
      }
    },
    {
      "cell_type": "code",
      "source": [
        "data = yf.download(\"GOOGL\", period=\"5y\")\n",
        "data.Close.mode()"
      ],
      "metadata": {
        "colab": {
          "base_uri": "https://localhost:8080/",
          "height": 132
        },
        "id": "4zKK0V9-lC9t",
        "outputId": "4789ccb0-b25a-45e5-8fab-3b7d0362ee3f"
      },
      "execution_count": null,
      "outputs": [
        {
          "output_type": "stream",
          "name": "stderr",
          "text": [
            "\r[*********************100%%**********************]  1 of 1 completed\n"
          ]
        },
        {
          "output_type": "execute_result",
          "data": {
            "text/plain": [
              "0    105.970001\n",
              "Name: Close, dtype: float64"
            ],
            "text/html": [
              "<div>\n",
              "<style scoped>\n",
              "    .dataframe tbody tr th:only-of-type {\n",
              "        vertical-align: middle;\n",
              "    }\n",
              "\n",
              "    .dataframe tbody tr th {\n",
              "        vertical-align: top;\n",
              "    }\n",
              "\n",
              "    .dataframe thead th {\n",
              "        text-align: right;\n",
              "    }\n",
              "</style>\n",
              "<table border=\"1\" class=\"dataframe\">\n",
              "  <thead>\n",
              "    <tr style=\"text-align: right;\">\n",
              "      <th></th>\n",
              "      <th>Close</th>\n",
              "    </tr>\n",
              "  </thead>\n",
              "  <tbody>\n",
              "    <tr>\n",
              "      <th>0</th>\n",
              "      <td>105.970001</td>\n",
              "    </tr>\n",
              "  </tbody>\n",
              "</table>\n",
              "</div><br><label><b>dtype:</b> float64</label>"
            ]
          },
          "metadata": {},
          "execution_count": 40
        }
      ]
    },
    {
      "cell_type": "markdown",
      "source": [
        "# 5 YEAR LINE GRAPHS"
      ],
      "metadata": {
        "id": "s9DZU2T6awHQ"
      }
    },
    {
      "cell_type": "markdown",
      "source": [
        "Teslas 5 year Graph"
      ],
      "metadata": {
        "id": "G-Keonv_ooow"
      }
    },
    {
      "cell_type": "code",
      "source": [
        "import yfinance as yf\n",
        "import pandas as pd\n",
        "import matplotlib.pyplot as plt\n",
        "\n",
        "data = pd.DataFrame(yf.download(\"TSLA\", period=\"5y\"))\n",
        "data.Close.plot()\n",
        "plt.title('Line Plot of AAPL Closing Values Over 5 Years')\n",
        "plt.xlabel('Date')\n",
        "plt.ylabel('Closing Price')\n",
        "plt.show()"
      ],
      "metadata": {
        "colab": {
          "base_uri": "https://localhost:8080/",
          "height": 462
        },
        "id": "U2c27-F0oRNE",
        "outputId": "dd156c97-f63e-4743-f148-10272a82eaf7"
      },
      "execution_count": null,
      "outputs": [
        {
          "output_type": "stream",
          "name": "stderr",
          "text": [
            "\r[*********************100%%**********************]  1 of 1 completed\n"
          ]
        },
        {
          "output_type": "display_data",
          "data": {
            "text/plain": [
              "<Figure size 640x480 with 1 Axes>"
            ],
            "image/png": "[encoded data removed]"
          },
          "metadata": {}
        }
      ]
    },
    {
      "cell_type": "markdown",
      "source": [
        "Amds 5 year graph"
      ],
      "metadata": {
        "id": "AFlDXuldo_bv"
      }
    },
    {
      "cell_type": "code",
      "source": [
        "import yfinance as yf\n",
        "import matplotlib.pyplot as plt\n",
        "import pandas as pd\n",
        "\n",
        "data = pd.DataFrame(yf.download(\"AMD\", period=\"5y\"))\n",
        "data.Close.plot()\n",
        "plt.title('Line Plot of AMD Closing Values Over 5 Years')\n",
        "plt.xlabel('Date')\n",
        "plt.ylabel('Closing Price')\n",
        "plt.show()"
      ],
      "metadata": {
        "colab": {
          "base_uri": "https://localhost:8080/",
          "height": 462
        },
        "id": "54l4H4oooTzt",
        "outputId": "f280c709-8843-4681-97e4-405f710a64ea"
      },
      "execution_count": null,
      "outputs": [
        {
          "output_type": "stream",
          "name": "stderr",
          "text": [
            "\r[*********************100%%**********************]  1 of 1 completed\n"
          ]
        },
        {
          "output_type": "display_data",
          "data": {
            "text/plain": [
              "<Figure size 640x480 with 1 Axes>"
            ],
            "image/png": "[encoded data removed]"
          },
          "metadata": {}
        }
      ]
    },
    {
      "cell_type": "markdown",
      "source": [
        "NIKE 5 year graph"
      ],
      "metadata": {
        "id": "Vi5jL1PCpQx-"
      }
    },
    {
      "cell_type": "code",
      "source": [
        "import yfinance as yf\n",
        "import matplotlib.pyplot as plt\n",
        "import pandas as pd\n",
        "\n",
        "data = pd.DataFrame(yf.download(\"NKE\", period=\"5y\"))\n",
        "data.Close.plot()\n",
        "plt.title('Line Plot of Nike Closing Values Over 5 Years')\n",
        "plt.xlabel('Date')\n",
        "plt.ylabel('Closing Price')\n",
        "plt.show()"
      ],
      "metadata": {
        "colab": {
          "base_uri": "https://localhost:8080/",
          "height": 462
        },
        "id": "ZpfvoLqtpI7b",
        "outputId": "56a126a8-848c-447f-f5b9-fea2255c6f6b"
      },
      "execution_count": null,
      "outputs": [
        {
          "output_type": "stream",
          "name": "stderr",
          "text": [
            "\r[*********************100%%**********************]  1 of 1 completed\n"
          ]
        },
        {
          "output_type": "display_data",
          "data": {
            "text/plain": [
              "<Figure size 640x480 with 1 Axes>"
            ],
            "image/png": "[encoded data removed]"
          },
          "metadata": {}
        }
      ]
    },
    {
      "cell_type": "markdown",
      "source": [
        "Googles 5 year chart"
      ],
      "metadata": {
        "id": "4PbqMPxDzyD1"
      }
    },
    {
      "cell_type": "code",
      "source": [
        "import yfinance as yf\n",
        "import matplotlib.pyplot as plt\n",
        "import pandas as pd\n",
        "\n",
        "data = pd.DataFrame(yf.download(\"GOOGL\", period=\"5y\"))\n",
        "data.Close.plot()\n",
        "plt.title('Line Plot of Google Closing Values Over 5 Years')\n",
        "plt.xlabel('Date')\n",
        "plt.ylabel('Closing Price')"
      ],
      "metadata": {
        "colab": {
          "base_uri": "https://localhost:8080/",
          "height": 480
        },
        "id": "sQgrJLLzpZBR",
        "outputId": "e41b6074-8f6f-4805-a4f0-cf0a73f299fa"
      },
      "execution_count": null,
      "outputs": [
        {
          "output_type": "stream",
          "name": "stderr",
          "text": [
            "\r[*********************100%%**********************]  1 of 1 completed\n"
          ]
        },
        {
          "output_type": "execute_result",
          "data": {
            "text/plain": [
              "Text(0, 0.5, 'Closing Price')"
            ]
          },
          "metadata": {},
          "execution_count": 26
        },
        {
          "output_type": "display_data",
          "data": {
            "text/plain": [
              "<Figure size 640x480 with 1 Axes>"
            ],
            "image/png": "[encoded data removed]"
          },
          "metadata": {}
        }
      ]
    },
    {
      "cell_type": "markdown",
      "source": [
        "Maras 5 year chart"
      ],
      "metadata": {
        "id": "k5piVzhpz9sQ"
      }
    },
    {
      "cell_type": "code",
      "source": [
        "import yfinance as yf\n",
        "import matplotlib.pyplot as plt\n",
        "import pandas as pd\n",
        "\n",
        "data = pd.DataFrame(yf.download(\"MARA\", period=\"5y\"))\n",
        "data.Close.plot()\n",
        "plt.title('Line Plot of MARA Closing Values Over 5 Years')\n",
        "plt.xlabel('Date')\n",
        "plt.ylabel('Closing Price')"
      ],
      "metadata": {
        "colab": {
          "base_uri": "https://localhost:8080/",
          "height": 480
        },
        "id": "rgTLNxLWz2de",
        "outputId": "70e2cc9c-4dc5-4268-9843-f1543258654a"
      },
      "execution_count": 4,
      "outputs": [
        {
          "output_type": "stream",
          "name": "stderr",
          "text": [
            "\r[*********************100%%**********************]  1 of 1 completed\n"
          ]
        },
        {
          "output_type": "execute_result",
          "data": {
            "text/plain": [
              "Text(0, 0.5, 'Closing Price')"
            ]
          },
          "metadata": {},
          "execution_count": 4
        },
        {
          "output_type": "display_data",
          "data": {
            "text/plain": [
              "<Figure size 640x480 with 1 Axes>"
            ],
            "image/png": "[encoded data removed]"
          },
          "metadata": {}
        }
      ]
    }
  ]
}